{
 "cells": [
  {
   "cell_type": "code",
   "execution_count": 8,
   "metadata": {
    "execution": {
     "iopub.execute_input": "2021-03-01T02:26:53.515481Z",
     "iopub.status.busy": "2021-03-01T02:26:53.515266Z",
     "iopub.status.idle": "2021-03-01T02:26:53.519048Z",
     "shell.execute_reply": "2021-03-01T02:26:53.518408Z",
     "shell.execute_reply.started": "2021-03-01T02:26:53.515456Z"
    }
   },
   "outputs": [],
   "source": [
    "import logging\n",
    "import itertools\n",
    "\n",
    "import matplotlib.pyplot as plt\n",
    "import matplotlib.ticker as ticker\n",
    "\n",
    "import numpy as np\n",
    "import scipy.stats as stats\n",
    "import pandas as pd\n",
    "\n",
    "from dask.distributed import Client, LocalCluster\n",
    "import dask.delayed"
   ]
  },
  {
   "cell_type": "code",
   "execution_count": null,
   "metadata": {},
   "outputs": [],
   "source": []
  },
  {
   "cell_type": "markdown",
   "metadata": {},
   "source": [
    "# Dask Cluster"
   ]
  },
  {
   "cell_type": "code",
   "execution_count": 3,
   "metadata": {
    "execution": {
     "iopub.execute_input": "2021-02-28T19:45:24.241857Z",
     "iopub.status.busy": "2021-02-28T19:45:24.241636Z",
     "iopub.status.idle": "2021-02-28T19:45:26.172273Z",
     "shell.execute_reply": "2021-02-28T19:45:26.171366Z",
     "shell.execute_reply.started": "2021-02-28T19:45:24.241831Z"
    }
   },
   "outputs": [
    {
     "data": {
      "text/html": [
       "<table style=\"border: 2px solid white;\">\n",
       "<tr>\n",
       "<td style=\"vertical-align: top; border: 0px solid white\">\n",
       "<h3 style=\"text-align: left;\">Client</h3>\n",
       "<ul style=\"text-align: left; list-style: none; margin: 0; padding: 0;\">\n",
       "  <li><b>Scheduler: </b>tcp://127.0.0.1:55001</li>\n",
       "  <li><b>Dashboard: </b><a href='http://127.0.0.1:8787/status' target='_blank'>http://127.0.0.1:8787/status</a></li>\n",
       "</ul>\n",
       "</td>\n",
       "<td style=\"vertical-align: top; border: 0px solid white\">\n",
       "<h3 style=\"text-align: left;\">Cluster</h3>\n",
       "<ul style=\"text-align: left; list-style:none; margin: 0; padding: 0;\">\n",
       "  <li><b>Workers: </b>12</li>\n",
       "  <li><b>Cores: </b>12</li>\n",
       "  <li><b>Memory: </b>34.36 GB</li>\n",
       "</ul>\n",
       "</td>\n",
       "</tr>\n",
       "</table>"
      ],
      "text/plain": [
       "<Client: 'tcp://127.0.0.1:55001' processes=12 threads=12, memory=34.36 GB>"
      ]
     },
     "execution_count": 3,
     "metadata": {},
     "output_type": "execute_result"
    }
   ],
   "source": [
    "cluster = LocalCluster(\n",
    "    n_workers=12, \n",
    "    threads_per_worker=1, \n",
    "    processes=True, \n",
    "    silence_logs=logging.ERROR\n",
    ")\n",
    "client = Client(cluster)\n",
    "client\n",
    "\n",
    "# client.restart()\n",
    "# client.shutdown()\n",
    "# client.close()"
   ]
  },
  {
   "cell_type": "code",
   "execution_count": null,
   "metadata": {},
   "outputs": [],
   "source": []
  },
  {
   "cell_type": "markdown",
   "metadata": {},
   "source": [
    "# Statistical Tests"
   ]
  },
  {
   "cell_type": "code",
   "execution_count": 120,
   "metadata": {
    "execution": {
     "iopub.execute_input": "2021-03-01T03:21:48.191256Z",
     "iopub.status.busy": "2021-03-01T03:21:48.191053Z",
     "iopub.status.idle": "2021-03-01T03:21:48.195621Z",
     "shell.execute_reply": "2021-03-01T03:21:48.194985Z",
     "shell.execute_reply.started": "2021-03-01T03:21:48.191233Z"
    }
   },
   "outputs": [],
   "source": [
    "def two_proportions_test(success_a, size_a, success_b, size_b):\n",
    "    \"\"\"\n",
    "    http://ethen8181.github.io/machine-learning/ab_tests/frequentist_ab_test.html#Comparing-Two-Proportions\n",
    "    \n",
    "    A/B test for two proportions;\n",
    "    given a success a trial size of group A and B compute its zscore and pvalue\n",
    "    \n",
    "    Parameters\n",
    "    ----------\n",
    "    success_a, success_b : int\n",
    "        Number of successes in each group\n",
    "        \n",
    "    size_a, size_b : int\n",
    "        Size, or number of observations in each group\n",
    "    \n",
    "    Returns\n",
    "    -------\n",
    "    zscore : float\n",
    "        test statistic for the two proportion z-test\n",
    "\n",
    "    pvalue : float\n",
    "        p-value for the two proportion z-test\n",
    "    \"\"\"\n",
    "#     print (success_a, size_a, success_b, size_b)\n",
    "    prop_a = success_a / size_a\n",
    "    prop_b = success_b / size_b\n",
    "    prop_pooled = (success_a + success_b) / (size_a + size_b)\n",
    "    var = prop_pooled * (1 - prop_pooled) * (1 / size_a + 1 / size_b)\n",
    "    zscore = np.abs(prop_b - prop_a) / np.sqrt(var)\n",
    "    one_side = 1 - stats.norm(loc = 0, scale = 1).cdf(zscore)\n",
    "    pvalue = one_side * 2\n",
    "    return zscore, pvalue\n",
    "\n",
    "# zscore, p_value = two_proportions_test(\n",
    "#     control_successes, \n",
    "#     control_samples,\n",
    "#     test_successes, \n",
    "#     test_samples,\n",
    "# )\n",
    "\n",
    "# if p_value <= 0.05:\n",
    "#     print (\"Reject null hypothesis, conversion rates are different\")\n",
    "# else:\n",
    "#     print (\"Accept null hypothesis, samples are NOT different\")\n",
    "\n"
   ]
  },
  {
   "cell_type": "code",
   "execution_count": 121,
   "metadata": {
    "execution": {
     "iopub.execute_input": "2021-03-01T03:21:49.662208Z",
     "iopub.status.busy": "2021-03-01T03:21:49.661982Z",
     "iopub.status.idle": "2021-03-01T03:21:49.666607Z",
     "shell.execute_reply": "2021-03-01T03:21:49.665824Z",
     "shell.execute_reply.started": "2021-03-01T03:21:49.662182Z"
    }
   },
   "outputs": [],
   "source": [
    "def bayesian_rate_comparison(\n",
    "    control_successes, control_samples, test_successes, test_samples\n",
    "):\n",
    "\n",
    "    num_samples = 50000\n",
    "\n",
    "    control_samples = np.random.beta(\n",
    "        control_successes, \n",
    "        control_samples - control_successes, \n",
    "        size=num_samples\n",
    "    )\n",
    "\n",
    "    test_samples = np.random.beta(\n",
    "        test_successes, \n",
    "        test_samples - test_successes, \n",
    "        size=num_samples\n",
    "    )\n",
    "\n",
    "    p_test_gt_control = (test_samples > control_samples).mean()\n",
    "    p_control_gt_test = (control_samples > test_samples).mean()\n",
    "\n",
    "    return p_test_gt_control, p_control_gt_test\n",
    "\n",
    "# p_test_gt_control, p_control_gt_test = bayesian_rate_comparison(\n",
    "#     control_successes, control_samples, test_successes, test_samples\n",
    "# )\n",
    "    \n",
    "# if p_test_gt_control >= 0.975 or p_control_gt_test >= 0.975:\n",
    "#     print (\"Reject null hypothesis, conversion rates are different\")\n",
    "# else:\n",
    "#     print (\"Accept null hypothesis, samples are NOT different\")"
   ]
  },
  {
   "cell_type": "code",
   "execution_count": 122,
   "metadata": {
    "execution": {
     "iopub.execute_input": "2021-03-01T03:21:49.931555Z",
     "iopub.status.busy": "2021-03-01T03:21:49.931366Z",
     "iopub.status.idle": "2021-03-01T03:21:49.937617Z",
     "shell.execute_reply": "2021-03-01T03:21:49.936557Z",
     "shell.execute_reply.started": "2021-03-01T03:21:49.931533Z"
    }
   },
   "outputs": [],
   "source": [
    "def bootstrapped_p_value(\n",
    "    user_conversion_counts_a, \n",
    "    user_session_counts_a,\n",
    "    user_conversion_counts_b,\n",
    "    user_session_counts_b,\n",
    "    results_df\n",
    "):\n",
    "    \"\"\"\n",
    "    We'll call our difference \"tau\"\n",
    "    \"\"\"\n",
    "    num_users = results_df.shape[0]\n",
    "    tau_actual = (\n",
    "        (user_conversion_counts_b.sum()/user_session_counts_b.sum()) - \n",
    "        (user_conversion_counts_a.sum()/user_session_counts_a.sum())\n",
    "    )\n",
    "    results = []\n",
    "    for _ in range(0, 5000):\n",
    "        # bootstrapped sample\n",
    "        sample_df = results_df.sample(num_users, replace=True)\n",
    "\n",
    "        # randomly re-assign groups\n",
    "        sample_df['assignment'] = np.random.randint(0, 2, size=num_users)\n",
    "\n",
    "        # calculate observed difference, tau, in the sample\n",
    "        N_ic = sample_df[sample_df.assignment == 0].total_sessions\n",
    "        N_it = sample_df[sample_df.assignment == 1].total_sessions\n",
    "        S_ic = sample_df[sample_df.assignment == 0].total_sessions_converted\n",
    "        S_it = sample_df[sample_df.assignment == 1].total_sessions_converted\n",
    "        tau_sample = S_it.sum() / N_it.sum() - S_ic.sum() / N_ic.sum()\n",
    "\n",
    "        results.append(tau_sample)\n",
    "    \n",
    "    # Calculate bootstrapped p-value by comparing actual difference to\n",
    "    # our bootstrapped distribution of differences under the null hypothesis\n",
    "    bs_p_value = 1 - (np.abs(tau_actual) >= np.array(results)).sum()/len(results)\n",
    "    return bs_p_value"
   ]
  },
  {
   "cell_type": "markdown",
   "metadata": {},
   "source": [
    "# Simulation Function"
   ]
  },
  {
   "cell_type": "code",
   "execution_count": 66,
   "metadata": {
    "execution": {
     "iopub.execute_input": "2021-03-01T03:05:04.583797Z",
     "iopub.status.busy": "2021-03-01T03:05:04.583547Z",
     "iopub.status.idle": "2021-03-01T03:05:04.597812Z",
     "shell.execute_reply": "2021-03-01T03:05:04.597101Z",
     "shell.execute_reply.started": "2021-03-01T03:05:04.583769Z"
    }
   },
   "outputs": [],
   "source": [
    "# dask function itself will run multiple experiments to reduce the number\n",
    "# of tasks in the graph\n",
    "def _simulate_experiments(df, randomization_unit, num_experiments=10, test_type='frequentist'):\n",
    "    output = []\n",
    "    for x in range(0, num_experiments):\n",
    "        if randomization_unit == 'user':\n",
    "            users = df.user.unique()\n",
    "            users_df = pd.DataFrame({'user': users, 'assignment': np.random.randint(0, 2, size=len(users))})\n",
    "            df_w_assignments = pd.merge(df, users_df, how='inner', on='user')\n",
    "        elif randomization_unit == 'session':\n",
    "            df_w_assignments = df.copy()\n",
    "            df_w_assignments['assignment'] = np.random.randint(0, 2, size=df.shape[0])\n",
    "        else:\n",
    "            raise ValueError(\"randomization unit must be 'session' or 'user'\")\n",
    "\n",
    "        control_samples = df_w_assignments[df_w_assignments.assignment == 0].session_converted.count()\n",
    "        control_successes = df_w_assignments[df_w_assignments.assignment == 0].session_converted.sum()\n",
    "\n",
    "        test_samples = df_w_assignments[df_w_assignments.assignment == 1].session_converted.count()\n",
    "        test_successes = df_w_assignments[df_w_assignments.assignment == 1].session_converted.sum()\n",
    "        \n",
    "        if test_type in ['frequentist_delta', 'bootstrapped']:\n",
    "            assert randomization_unit == 'user'\n",
    "            user_grain_results_df = (\n",
    "                df_w_assignments\n",
    "                .groupby(['user', 'assignment'])\n",
    "                .session_converted\n",
    "                .agg(\n",
    "                    total_sessions='count',\n",
    "                    total_sessions_converted='sum'\n",
    "                )\n",
    "                .reset_index()\n",
    "            )\n",
    "        \n",
    "        if test_type == 'frequentist':\n",
    "            zscore, p_value = two_proportions_test(\n",
    "                control_successes, \n",
    "                control_samples,\n",
    "                test_successes, \n",
    "                test_samples,\n",
    "            )\n",
    "            output.append(p_value)\n",
    "        elif test_type == 'frequentist_delta':\n",
    "            zscore, p_value = two_proportions_test_delta_method(\n",
    "                user_grain_results_df[user_grain_results_df.assignment == 0].total_sessions_converted,\n",
    "                user_grain_results_df[user_grain_results_df.assignment == 0].total_sessions, \n",
    "                user_grain_results_df[user_grain_results_df.assignment == 1].total_sessions_converted,\n",
    "                user_grain_results_df[user_grain_results_df.assignment == 1].total_sessions, \n",
    "            )\n",
    "            output.append(p_value)\n",
    "        elif test_type == 'bootstrapped':\n",
    "            p_value = bootstrapped_p_value(\n",
    "                user_grain_results_df[user_grain_results_df.assignment == 0].total_sessions_converted,\n",
    "                user_grain_results_df[user_grain_results_df.assignment == 0].total_sessions, \n",
    "                user_grain_results_df[user_grain_results_df.assignment == 1].total_sessions_converted,\n",
    "                user_grain_results_df[user_grain_results_df.assignment == 1].total_sessions, \n",
    "                user_grain_results_df\n",
    "            )\n",
    "            output.append(p_value)\n",
    "        elif test_type == 'bayesian':\n",
    "            p_test_gt_control, p_control_gt_test = bayesian_rate_comparison(\n",
    "                control_successes, control_samples, test_successes, test_samples\n",
    "            )\n",
    "            output.append((p_test_gt_control, p_control_gt_test))\n",
    "        else:\n",
    "            raise ValueError(\n",
    "                \"test type must be 'frequentist', 'bayesian', 'bootstrapped', or 'frequentist_delta'\"\n",
    "            )\n",
    "    return output\n",
    "\n",
    "\n",
    "def simulate_experiments(\n",
    "    df, \n",
    "    num_experiments=10000, \n",
    "    num_experiments_per_task=100, \n",
    "    randomization_unit='user',\n",
    "    test_type='frequentist'\n",
    "):\n",
    "    \n",
    "    delayed_output = []\n",
    "    scattered_df = client.scatter(df)\n",
    "    for x in range(0, round(num_experiments/num_experiments_per_task)):\n",
    "        _delayed_output = dask.delayed(_simulate_experiments)(\n",
    "            scattered_df, \n",
    "            randomization_unit, \n",
    "            num_experiments_per_task,\n",
    "            test_type\n",
    "        )\n",
    "        delayed_output.append(_delayed_output)\n",
    "    \n",
    "    output = dask.compute(*delayed_output)\n",
    "    return list(itertools.chain.from_iterable(output))"
   ]
  },
  {
   "cell_type": "markdown",
   "metadata": {},
   "source": [
    "# Simulate A/A Tests"
   ]
  },
  {
   "cell_type": "markdown",
   "metadata": {},
   "source": [
    "## High sessions per user & large variance in conversion rates"
   ]
  },
  {
   "cell_type": "code",
   "execution_count": 7,
   "metadata": {
    "execution": {
     "iopub.execute_input": "2021-03-01T00:38:48.663766Z",
     "iopub.status.busy": "2021-03-01T00:38:48.663568Z",
     "iopub.status.idle": "2021-03-01T00:38:50.256103Z",
     "shell.execute_reply": "2021-03-01T00:38:50.255551Z",
     "shell.execute_reply.started": "2021-03-01T00:38:48.663743Z"
    }
   },
   "outputs": [
    {
     "name": "stdout",
     "output_type": "stream",
     "text": [
      "Building dataset\n",
      "Average sessions per user 9.87\n",
      "\n"
     ]
    },
    {
     "data": {
      "image/png": "[encoded data removed]",
      "text/plain": [
       "<Figure size 1224x288 with 2 Axes>"
      ]
     },
     "metadata": {
      "needs_background": "light"
     },
     "output_type": "display_data"
    }
   ],
   "source": [
    "print(\"Building dataset\")\n",
    "num_users = 5000\n",
    "\n",
    "sessions_per_user = np.random.geometric(0.1, size=num_users)\n",
    "\n",
    "avg_conversion_rate = 0.2\n",
    "rates = avg_conversion_rate*1/5 + avg_conversion_rate*4/5*np.exp(-0.1*(sessions_per_user - 1))\n",
    "\n",
    "a = rates*1000\n",
    "b = 1000 - rates*1000\n",
    "conversion_rates = np.random.beta(a, b, size=num_users);\n",
    "\n",
    "\n",
    "fig, axs = plt.subplots(1, 2, figsize=(17, 4));\n",
    "\n",
    "axs[0].set_title('Sessions per user distribution');\n",
    "axs[0].get_yaxis().set_visible(False);\n",
    "axs[0].set_xlabel('Sessions per user');\n",
    "axs[0].hist(sessions_per_user, density=True, bins=100);\n",
    "\n",
    "df = pd.DataFrame({'spu': sessions_per_user, 'cv': conversion_rates})\n",
    "gdf = df.groupby('spu').cv.mean().reset_index(name='mean_cv')\n",
    "axs[1].set_title('Session conversion rate vs. sessions per user');\n",
    "axs[1].plot(gdf[gdf.spu <= 50].spu, gdf[gdf.spu <= 50].mean_cv);\n",
    "axs[1].set_xlabel('Sessions per user');\n",
    "axs[1].set_ylabel('Sessions conversion rate');\n",
    "axs[1].yaxis.set_major_formatter(ticker.PercentFormatter(xmax=1));\n",
    "axs[1].set_ylim(0, 0.2);\n",
    "\n",
    "data = {\n",
    "    'user': [],\n",
    "    'session_id': [],\n",
    "    'session_converted': []\n",
    "}\n",
    "\n",
    "for user_id, num_sessions in enumerate(sessions_per_user):\n",
    "    conversion_rate = conversion_rates[user_id]\n",
    "    for session_id in range(1, num_sessions+1):\n",
    "        session_converted = np.random.choice([0, 1], p=[1-conversion_rate, conversion_rate])\n",
    "        data['user'].append(user_id)\n",
    "        data['session_id'].append(f\"{user_id}-{session_id}\")\n",
    "        data['session_converted'].append(session_converted)\n",
    "\n",
    "df = pd.DataFrame(data)\n",
    "print(f\"Average sessions per user {sessions_per_user.mean():0.2f}\\n\")"
   ]
  },
  {
   "cell_type": "markdown",
   "metadata": {},
   "source": [
    "### Frequentist Test"
   ]
  },
  {
   "cell_type": "code",
   "execution_count": 40,
   "metadata": {
    "execution": {
     "iopub.execute_input": "2021-02-28T20:54:03.463169Z",
     "iopub.status.busy": "2021-02-28T20:54:03.456725Z",
     "iopub.status.idle": "2021-02-28T20:56:43.463113Z",
     "shell.execute_reply": "2021-02-28T20:56:43.442235Z",
     "shell.execute_reply.started": "2021-02-28T20:54:03.463122Z"
    }
   },
   "outputs": [
    {
     "name": "stdout",
     "output_type": "stream",
     "text": [
      "Running Frequentist tests\n",
      "Session Level Randomization:\n",
      "Detected 490 false positives out of 10000 trials (4.90% FPR)\n",
      "User Level Randomization:\n",
      "Detected 864 false positives out of 10000 trials (8.64% FPR)\n"
     ]
    },
    {
     "data": {
      "image/png": "[encoded data removed]",
      "text/plain": [
       "<Figure size 432x288 with 1 Axes>"
      ]
     },
     "metadata": {
      "needs_background": "light"
     },
     "output_type": "display_data"
    },
    {
     "data": {
      "image/png": "[encoded data removed]",
      "text/plain": [
       "<Figure size 432x288 with 1 Axes>"
      ]
     },
     "metadata": {
      "needs_background": "light"
     },
     "output_type": "display_data"
    }
   ],
   "source": [
    "print(\"Running Frequentist tests\")\n",
    "for i, ru in enumerate(['session', 'user']):\n",
    "    print(f\"{ru.capitalize()} Level Randomization:\")\n",
    "    p_values = simulate_experiments(\n",
    "        df, \n",
    "        num_experiments=10000, \n",
    "        num_experiments_per_task=250,\n",
    "        randomization_unit=ru,\n",
    "        test_type='frequentist'\n",
    "    )\n",
    "    \n",
    "    false_positives = [\n",
    "        1 for p_value in p_values if p_value <= 0.05\n",
    "    ]\n",
    "\n",
    "    print(\n",
    "        f\"Detected {len(false_positives)} false positives out of {len(p_values)} trials\"\n",
    "        f\" ({len(false_positives)/len(p_values):0.2%} FPR)\"\n",
    "    )\n",
    "\n",
    "    plt.figure(i);\n",
    "    plt.hist(p_values, bins=50);\n",
    "    plt.title(f'Distribution of p-values with {ru} level randomization');"
   ]
  },
  {
   "cell_type": "markdown",
   "metadata": {},
   "source": [
    "### Bayesian Test"
   ]
  },
  {
   "cell_type": "code",
   "execution_count": 41,
   "metadata": {
    "execution": {
     "iopub.execute_input": "2021-02-28T20:56:43.553165Z",
     "iopub.status.busy": "2021-02-28T20:56:43.547697Z",
     "iopub.status.idle": "2021-02-28T20:59:46.723577Z",
     "shell.execute_reply": "2021-02-28T20:59:46.683892Z",
     "shell.execute_reply.started": "2021-02-28T20:56:43.553121Z"
    }
   },
   "outputs": [
    {
     "name": "stdout",
     "output_type": "stream",
     "text": [
      "Running Bayesian tests\n",
      "Session Level Randomization:\n",
      "Detected 461 false positives out of 10000 trials (4.61% FPR)\n",
      "User Level Randomization:\n",
      "Detected 845 false positives out of 10000 trials (8.45% FPR)\n"
     ]
    },
    {
     "data": {
      "image/png": "[encoded data removed]",
      "text/plain": [
       "<Figure size 432x288 with 1 Axes>"
      ]
     },
     "metadata": {
      "needs_background": "light"
     },
     "output_type": "display_data"
    },
    {
     "data": {
      "image/png": "[encoded data removed]",
      "text/plain": [
       "<Figure size 432x288 with 1 Axes>"
      ]
     },
     "metadata": {
      "needs_background": "light"
     },
     "output_type": "display_data"
    }
   ],
   "source": [
    "print(\"Running Bayesian tests\")\n",
    "for i, ru in enumerate(['session', 'user']):\n",
    "    print(f\"{ru.capitalize()} Level Randomization:\")\n",
    "    bayesian_probas = simulate_experiments(\n",
    "        df, \n",
    "        num_experiments=10000, \n",
    "        num_experiments_per_task=250, \n",
    "        randomization_unit=ru,\n",
    "        test_type='bayesian'\n",
    "    )\n",
    "    \n",
    "    false_positives = [\n",
    "        1 for p_t, p_c in bayesian_probas if p_t >= 0.975 or p_c >= 0.975\n",
    "    ]\n",
    "    \n",
    "    bayesian_fpr = (\n",
    "        len(false_positives) \n",
    "        / len(bayesian_probas)\n",
    "    )\n",
    "\n",
    "    print(\n",
    "        f\"Detected {len(false_positives)} false positives out of {len(bayesian_probas)} trials\"\n",
    "        f\" ({len(false_positives)/len(bayesian_probas):0.2%} FPR)\"\n",
    "    )\n",
    "\n",
    "    plt.figure(i);\n",
    "    plt.hist([p[0] for p in bayesian_probas], bins=50);\n",
    "    plt.title(f'Distribution of p_test_gt_control with {ru} level randomization');"
   ]
  },
  {
   "cell_type": "markdown",
   "metadata": {},
   "source": [
    "### Bootstrapped Test"
   ]
  },
  {
   "cell_type": "code",
   "execution_count": 47,
   "metadata": {
    "execution": {
     "iopub.execute_input": "2021-02-28T21:35:44.544174Z",
     "iopub.status.busy": "2021-02-28T21:35:44.538038Z",
     "iopub.status.idle": "2021-02-28T23:00:33.791961Z",
     "shell.execute_reply": "2021-02-28T23:00:33.708542Z",
     "shell.execute_reply.started": "2021-02-28T21:35:44.544132Z"
    }
   },
   "outputs": [
    {
     "name": "stdout",
     "output_type": "stream",
     "text": [
      "Running bootstrapped tests\n"
     ]
    },
    {
     "name": "stderr",
     "output_type": "stream",
     "text": [
      "tornado.application - ERROR - Uncaught exception GET /eventstream (127.0.0.1)\n",
      "HTTPServerRequest(protocol='http', host='127.0.0.1:8787', method='GET', uri='/eventstream', version='HTTP/1.1', remote_ip='127.0.0.1')\n",
      "Traceback (most recent call last):\n",
      "  File \"/Users/ianwhitestone/.pyenv/versions/3.7.6/lib/python3.7/site-packages/tornado/websocket.py\", line 954, in _accept_connection\n",
      "    open_result = handler.open(*handler.open_args, **handler.open_kwargs)\n",
      "  File \"/Users/ianwhitestone/.pyenv/versions/3.7.6/lib/python3.7/site-packages/distributed/http/scheduler/info.py\", line 181, in open\n",
      "    self.plugin.add_worker(self.server, worker)\n",
      "  File \"/Users/ianwhitestone/.pyenv/versions/3.7.6/lib/python3.7/site-packages/distributed/diagnostics/websocket.py\", line 17, in add_worker\n",
      "    self.socket.send(\"add_worker\", {\"worker\": worker})\n",
      "  File \"/Users/ianwhitestone/.pyenv/versions/3.7.6/lib/python3.7/site-packages/distributed/http/scheduler/info.py\", line 177, in send\n",
      "    self.write_message(data)\n",
      "  File \"/Users/ianwhitestone/.pyenv/versions/3.7.6/lib/python3.7/site-packages/tornado/websocket.py\", line 337, in write_message\n",
      "    raise WebSocketClosedError()\n",
      "tornado.websocket.WebSocketClosedError\n",
      "Task exception was never retrieved\n",
      "future: <Task finished coro=<WebSocketProtocol13.write_message.<locals>.wrapper() done, defined at /Users/ianwhitestone/.pyenv/versions/3.7.6/lib/python3.7/site-packages/tornado/websocket.py:1100> exception=WebSocketClosedError()>\n",
      "Traceback (most recent call last):\n",
      "  File \"/Users/ianwhitestone/.pyenv/versions/3.7.6/lib/python3.7/site-packages/tornado/websocket.py\", line 1102, in wrapper\n",
      "    await fut\n",
      "tornado.iostream.StreamClosedError: Stream is closed\n",
      "\n",
      "During handling of the above exception, another exception occurred:\n",
      "\n",
      "Traceback (most recent call last):\n",
      "  File \"/Users/ianwhitestone/.pyenv/versions/3.7.6/lib/python3.7/site-packages/tornado/websocket.py\", line 1104, in wrapper\n",
      "    raise WebSocketClosedError()\n",
      "tornado.websocket.WebSocketClosedError\n",
      "tornado.application - ERROR - Uncaught exception GET /eventstream (127.0.0.1)\n",
      "HTTPServerRequest(protocol='http', host='127.0.0.1:8787', method='GET', uri='/eventstream', version='HTTP/1.1', remote_ip='127.0.0.1')\n",
      "Traceback (most recent call last):\n",
      "  File \"/Users/ianwhitestone/.pyenv/versions/3.7.6/lib/python3.7/site-packages/tornado/websocket.py\", line 954, in _accept_connection\n",
      "    open_result = handler.open(*handler.open_args, **handler.open_kwargs)\n",
      "  File \"/Users/ianwhitestone/.pyenv/versions/3.7.6/lib/python3.7/site-packages/distributed/http/scheduler/info.py\", line 181, in open\n",
      "    self.plugin.add_worker(self.server, worker)\n",
      "  File \"/Users/ianwhitestone/.pyenv/versions/3.7.6/lib/python3.7/site-packages/distributed/diagnostics/websocket.py\", line 17, in add_worker\n",
      "    self.socket.send(\"add_worker\", {\"worker\": worker})\n",
      "  File \"/Users/ianwhitestone/.pyenv/versions/3.7.6/lib/python3.7/site-packages/distributed/http/scheduler/info.py\", line 177, in send\n",
      "    self.write_message(data)\n",
      "  File \"/Users/ianwhitestone/.pyenv/versions/3.7.6/lib/python3.7/site-packages/tornado/websocket.py\", line 337, in write_message\n",
      "    raise WebSocketClosedError()\n",
      "tornado.websocket.WebSocketClosedError\n",
      "Task exception was never retrieved\n",
      "future: <Task finished coro=<WebSocketProtocol13.write_message.<locals>.wrapper() done, defined at /Users/ianwhitestone/.pyenv/versions/3.7.6/lib/python3.7/site-packages/tornado/websocket.py:1100> exception=WebSocketClosedError()>\n",
      "Traceback (most recent call last):\n",
      "  File \"/Users/ianwhitestone/.pyenv/versions/3.7.6/lib/python3.7/site-packages/tornado/websocket.py\", line 1102, in wrapper\n",
      "    await fut\n",
      "tornado.iostream.StreamClosedError: Stream is closed\n",
      "\n",
      "During handling of the above exception, another exception occurred:\n",
      "\n",
      "Traceback (most recent call last):\n",
      "  File \"/Users/ianwhitestone/.pyenv/versions/3.7.6/lib/python3.7/site-packages/tornado/websocket.py\", line 1104, in wrapper\n",
      "    raise WebSocketClosedError()\n",
      "tornado.websocket.WebSocketClosedError\n"
     ]
    },
    {
     "ename": "ZeroDivisionError",
     "evalue": "division by zero",
     "output_type": "error",
     "traceback": [
      "\u001b[0;31m---------------------------------------------------------------------------\u001b[0m",
      "\u001b[0;31mZeroDivisionError\u001b[0m                         Traceback (most recent call last)",
      "\u001b[0;32m<ipython-input-47-1317fd5bef0a>\u001b[0m in \u001b[0;36m<module>\u001b[0;34m\u001b[0m\n\u001b[1;32m     16\u001b[0m \u001b[0;34m\u001b[0m\u001b[0m\n\u001b[1;32m     17\u001b[0m print(\n\u001b[0;32m---> 18\u001b[0;31m     \u001b[0;34mf\"Detected {len(false_positives)} false positives out of {len(p_values)} trials\"\u001b[0m\u001b[0;34m\u001b[0m\u001b[0;34m\u001b[0m\u001b[0m\n\u001b[0m\u001b[1;32m     19\u001b[0m     \u001b[0;34mf\" ({len(false_positives)/len(p_values):0.2%} FPR)\"\u001b[0m\u001b[0;34m\u001b[0m\u001b[0;34m\u001b[0m\u001b[0m\n\u001b[1;32m     20\u001b[0m )\n",
      "\u001b[0;31mZeroDivisionError\u001b[0m: division by zero"
     ]
    }
   ],
   "source": [
    "print(\"Running bootstrapped tests\")\n",
    "\n",
    "p_values = simulate_experiments(\n",
    "    df, \n",
    "#     num_experiments=10000, \n",
    "#     num_experiments_per_task=250,\n",
    "    num_experiments=1000, \n",
    "    num_experiments_per_task=25,\n",
    "    randomization_unit=ru,\n",
    "    test_type='bootstrapped'\n",
    ")\n",
    "\n",
    "false_positives = [\n",
    "    1 for p_value in p_values if p_value <= 0.05\n",
    "]\n",
    "\n",
    "print(\n",
    "    f\"Detected {len(false_positives)} false positives out of {len(p_values)} trials\"\n",
    "    f\" ({len(false_positives)/len(p_values):0.2%} FPR)\"\n",
    ")\n",
    "\n",
    "plt.figure(i);\n",
    "plt.hist(p_values, bins=50);\n",
    "plt.title(f'Distribution of p-values with User level randomization');"
   ]
  },
  {
   "cell_type": "markdown",
   "metadata": {},
   "source": [
    "## Create Data - high sessions per user & small variance in conversion rates"
   ]
  },
  {
   "cell_type": "code",
   "execution_count": 9,
   "metadata": {
    "execution": {
     "iopub.execute_input": "2021-03-01T02:27:02.577752Z",
     "iopub.status.busy": "2021-03-01T02:27:02.577524Z",
     "iopub.status.idle": "2021-03-01T02:27:04.247749Z",
     "shell.execute_reply": "2021-03-01T02:27:04.247173Z",
     "shell.execute_reply.started": "2021-03-01T02:27:02.577726Z"
    }
   },
   "outputs": [
    {
     "name": "stdout",
     "output_type": "stream",
     "text": [
      "Building dataset\n",
      "Average sessions per user 9.86\n",
      "\n"
     ]
    },
    {
     "data": {
      "image/png": "[encoded data removed]",
      "text/plain": [
       "<Figure size 1224x288 with 2 Axes>"
      ]
     },
     "metadata": {
      "needs_background": "light"
     },
     "output_type": "display_data"
    }
   ],
   "source": [
    "print(\"Building dataset\")\n",
    "num_users = 5000\n",
    "\n",
    "sessions_per_user = np.random.geometric(0.1, size=num_users)\n",
    "\n",
    "avg_conversion_rate = 0.2\n",
    "rates = avg_conversion_rate*4/5 + avg_conversion_rate*1/5*np.exp(-0.1*(sessions_per_user - 1))\n",
    "\n",
    "a = rates*1000\n",
    "b = 1000 - rates*1000\n",
    "conversion_rates = np.random.beta(a, b, size=num_users);\n",
    "\n",
    "\n",
    "fig, axs = plt.subplots(1, 2, figsize=(17, 4));\n",
    "\n",
    "axs[0].set_title('Sessions per user distribution');\n",
    "axs[0].get_yaxis().set_visible(False);\n",
    "axs[0].set_xlabel('Sessions per user');\n",
    "axs[0].hist(sessions_per_user, density=True, bins=100);\n",
    "\n",
    "df = pd.DataFrame({'spu': sessions_per_user, 'cv': conversion_rates})\n",
    "gdf = df.groupby('spu').cv.mean().reset_index(name='mean_cv')\n",
    "axs[1].set_title('Session conversion rate vs. sessions per user');\n",
    "axs[1].plot(gdf[gdf.spu <= 50].spu, gdf[gdf.spu <= 50].mean_cv);\n",
    "axs[1].set_xlabel('Sessions per user');\n",
    "axs[1].set_ylabel('Sessions conversion rate');\n",
    "axs[1].yaxis.set_major_formatter(ticker.PercentFormatter(xmax=1));\n",
    "axs[1].set_ylim(0, 0.2);\n",
    "\n",
    "data = {\n",
    "    'user': [],\n",
    "    'session_id': [],\n",
    "    'session_converted': []\n",
    "}\n",
    "\n",
    "for user_id, num_sessions in enumerate(sessions_per_user):\n",
    "    conversion_rate = conversion_rates[user_id]\n",
    "    for session_id in range(1, num_sessions+1):\n",
    "        session_converted = np.random.choice([0, 1], p=[1-conversion_rate, conversion_rate])\n",
    "        data['user'].append(user_id)\n",
    "        data['session_id'].append(f\"{user_id}-{session_id}\")\n",
    "        data['session_converted'].append(session_converted)\n",
    "\n",
    "df = pd.DataFrame(data)\n",
    "print(f\"Average sessions per user {sessions_per_user.mean():0.2f}\\n\")"
   ]
  },
  {
   "cell_type": "code",
   "execution_count": null,
   "metadata": {},
   "outputs": [],
   "source": []
  },
  {
   "cell_type": "markdown",
   "metadata": {},
   "source": [
    "## Frequentist Experiments"
   ]
  },
  {
   "cell_type": "code",
   "execution_count": 26,
   "metadata": {
    "execution": {
     "iopub.execute_input": "2021-02-28T20:27:10.275804Z",
     "iopub.status.busy": "2021-02-28T20:27:10.270245Z",
     "iopub.status.idle": "2021-02-28T20:29:19.758073Z",
     "shell.execute_reply": "2021-02-28T20:29:19.742394Z",
     "shell.execute_reply.started": "2021-02-28T20:27:10.275756Z"
    }
   },
   "outputs": [
    {
     "name": "stdout",
     "output_type": "stream",
     "text": [
      "Running Frequentist tests\n",
      "Session Level Randomization:\n",
      "Detected 499 false positives out of 10000 trials (4.99% FPR)\n",
      "User Level Randomization:\n",
      "Detected 459 false positives out of 10000 trials (4.59% FPR)\n"
     ]
    },
    {
     "data": {
      "image/png": "[encoded data removed]",
      "text/plain": [
       "<Figure size 432x288 with 1 Axes>"
      ]
     },
     "metadata": {
      "needs_background": "light"
     },
     "output_type": "display_data"
    },
    {
     "data": {
      "image/png": "[encoded data removed]",
      "text/plain": [
       "<Figure size 432x288 with 1 Axes>"
      ]
     },
     "metadata": {
      "needs_background": "light"
     },
     "output_type": "display_data"
    }
   ],
   "source": [
    "print(\"Running Frequentist tests\")\n",
    "for i, ru in enumerate(['session', 'user']):\n",
    "    print(f\"{ru.capitalize()} Level Randomization:\")\n",
    "    p_values = simulate_experiments(\n",
    "        df, \n",
    "        num_experiments=10000, \n",
    "        num_experiments_per_task=250,\n",
    "        randomization_unit=ru,\n",
    "        test_type='frequentist'\n",
    "    )\n",
    "    \n",
    "    false_positives = [\n",
    "        1 for p_value in p_values if p_value <= 0.05\n",
    "    ]\n",
    "\n",
    "    print(\n",
    "        f\"Detected {len(false_positives)} false positives out of {len(p_values)} trials\"\n",
    "        f\" ({len(false_positives)/len(p_values):0.2%} FPR)\"\n",
    "    )\n",
    "\n",
    "    plt.figure(i);\n",
    "    plt.hist(p_values, bins=50);\n",
    "    plt.title(f'Distribution of p-values with {ru} level randomization');"
   ]
  },
  {
   "cell_type": "markdown",
   "metadata": {},
   "source": [
    "## Bayesian Experiments"
   ]
  },
  {
   "cell_type": "code",
   "execution_count": 27,
   "metadata": {
    "execution": {
     "iopub.execute_input": "2021-02-28T20:29:19.836170Z",
     "iopub.status.busy": "2021-02-28T20:29:19.829806Z",
     "iopub.status.idle": "2021-02-28T20:32:05.069586Z",
     "shell.execute_reply": "2021-02-28T20:32:05.020976Z",
     "shell.execute_reply.started": "2021-02-28T20:29:19.836127Z"
    }
   },
   "outputs": [
    {
     "name": "stdout",
     "output_type": "stream",
     "text": [
      "Running Bayesian tests\n",
      "Session Level Randomization:\n",
      "Detected 488 false positives out of 10000 trials (4.88% FPR)\n",
      "User Level Randomization:\n",
      "Detected 455 false positives out of 10000 trials (4.55% FPR)\n"
     ]
    },
    {
     "data": {
      "image/png": "[encoded data removed]",
      "text/plain": [
       "<Figure size 432x288 with 1 Axes>"
      ]
     },
     "metadata": {
      "needs_background": "light"
     },
     "output_type": "display_data"
    },
    {
     "data": {
      "image/png": "[encoded data removed]",
      "text/plain": [
       "<Figure size 432x288 with 1 Axes>"
      ]
     },
     "metadata": {
      "needs_background": "light"
     },
     "output_type": "display_data"
    }
   ],
   "source": [
    "print(\"Running Bayesian tests\")\n",
    "for i, ru in enumerate(['session', 'user']):\n",
    "    print(f\"{ru.capitalize()} Level Randomization:\")\n",
    "    bayesian_probas = simulate_experiments(\n",
    "        df, \n",
    "        num_experiments=10000, \n",
    "        num_experiments_per_task=250, \n",
    "        randomization_unit=ru,\n",
    "        test_type='bayesian'\n",
    "    )\n",
    "    \n",
    "    false_positives = [\n",
    "        1 for p_t, p_c in bayesian_probas if p_t >= 0.975 or p_c >= 0.975\n",
    "    ]\n",
    "    \n",
    "    bayesian_fpr = (\n",
    "        len(false_positives) \n",
    "        / len(bayesian_probas)\n",
    "    )\n",
    "\n",
    "    print(\n",
    "        f\"Detected {len(false_positives)} false positives out of {len(bayesian_probas)} trials\"\n",
    "        f\" ({len(false_positives)/len(bayesian_probas):0.2%} FPR)\"\n",
    "    )\n",
    "\n",
    "    plt.figure(i);\n",
    "    plt.hist([p[0] for p in bayesian_probas], bins=50);\n",
    "    plt.title(f'Distribution of p_test_gt_control with {ru} level randomization');"
   ]
  },
  {
   "cell_type": "code",
   "execution_count": null,
   "metadata": {},
   "outputs": [],
   "source": []
  }
 ],
 "metadata": {
  "kernelspec": {
   "display_name": "Python 3",
   "language": "python",
   "name": "python3"
  },
  "language_info": {
   "codemirror_mode": {
    "name": "ipython",
    "version": 3
   },
   "file_extension": ".py",
   "mimetype": "text/x-python",
   "name": "python",
   "nbconvert_exporter": "python",
   "pygments_lexer": "ipython3",
   "version": "3.7.6"
  }
 },
 "nbformat": 4,
 "nbformat_minor": 4
}
