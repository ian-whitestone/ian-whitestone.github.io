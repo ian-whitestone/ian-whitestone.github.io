{
 "cells": [
  {
   "cell_type": "code",
   "execution_count": 1,
   "metadata": {
    "execution": {
     "iopub.execute_input": "2021-02-01T00:58:08.297334Z",
     "iopub.status.busy": "2021-02-01T00:58:08.297009Z",
     "iopub.status.idle": "2021-02-01T00:58:10.735182Z",
     "shell.execute_reply": "2021-02-01T00:58:10.734076Z",
     "shell.execute_reply.started": "2021-02-01T00:58:08.297245Z"
    }
   },
   "outputs": [],
   "source": [
    "import matplotlib.pyplot as plt\n",
    "import matplotlib.ticker as ticker\n",
    "\n",
    "import numpy as np\n",
    "from scipy.stats import beta\n",
    "import pandas as pd\n",
    "import pymc3 as pm\n",
    "\n",
    "from dask.distributed import Client, LocalCluster\n",
    "import dask.delayed\n",
    "\n",
    "import logging"
   ]
  },
  {
   "cell_type": "markdown",
   "metadata": {},
   "source": [
    "# Session conversion dependent on SPU"
   ]
  },
  {
   "cell_type": "code",
   "execution_count": 134,
   "metadata": {
    "execution": {
     "iopub.execute_input": "2021-02-01T03:11:07.619656Z",
     "iopub.status.busy": "2021-02-01T03:11:07.614097Z",
     "iopub.status.idle": "2021-02-01T03:11:07.852069Z",
     "shell.execute_reply": "2021-02-01T03:11:07.778714Z",
     "shell.execute_reply.started": "2021-02-01T03:11:07.619589Z"
    }
   },
   "outputs": [],
   "source": [
    "num_users = 100000\n",
    "# num_users = 5000\n",
    "\n",
    "sessions_per_user = np.random.geometric(0.1, size=num_users)\n",
    "avg_conversion_rate = 0.2\n",
    "rates = avg_conversion_rate*1/5 + avg_conversion_rate*4/5*np.exp(-0.1*(sessions_per_user - 1))\n",
    "a = rates*1000\n",
    "b = 1000 - rates*1000\n",
    "conversion_rates = np.random.beta(a, b, size=num_users);"
   ]
  },
  {
   "cell_type": "code",
   "execution_count": 135,
   "metadata": {
    "execution": {
     "iopub.execute_input": "2021-02-01T03:11:08.608370Z",
     "iopub.status.busy": "2021-02-01T03:11:08.601992Z",
     "iopub.status.idle": "2021-02-01T03:11:20.998096Z",
     "shell.execute_reply": "2021-02-01T03:11:20.948159Z",
     "shell.execute_reply.started": "2021-02-01T03:11:08.608328Z"
    }
   },
   "outputs": [
    {
     "data": {
      "image/png": "[encoded data removed]",
      "text/plain": [
       "<Figure size 432x288 with 1 Axes>"
      ]
     },
     "metadata": {
      "needs_background": "light"
     },
     "output_type": "display_data"
    }
   ],
   "source": [
    "plt.hist(sessions_per_user, density=True, bins=100);"
   ]
  },
  {
   "cell_type": "code",
   "execution_count": 136,
   "metadata": {
    "execution": {
     "iopub.execute_input": "2021-02-01T03:11:21.073372Z",
     "iopub.status.busy": "2021-02-01T03:11:21.068055Z",
     "iopub.status.idle": "2021-02-01T03:11:33.767855Z",
     "shell.execute_reply": "2021-02-01T03:11:33.740749Z",
     "shell.execute_reply.started": "2021-02-01T03:11:21.073340Z"
    }
   },
   "outputs": [
    {
     "data": {
      "image/png": "[encoded data removed]",
      "text/plain": [
       "<Figure size 432x288 with 1 Axes>"
      ]
     },
     "metadata": {
      "needs_background": "light"
     },
     "output_type": "display_data"
    }
   ],
   "source": [
    "df = pd.DataFrame({'spu': sessions_per_user, 'cv': conversion_rates})\n",
    "gdf = df.groupby('spu').cv.mean().reset_index(name='mean_cv')\n",
    "\n",
    "plt.title('Session conversion rate vs. sessions per user');\n",
    "# plt.plot(gdf[gdf.spu <= 10].spu, gdf[gdf.spu <= 10].mean_cv);\n",
    "plt.plot(gdf[gdf.spu <= 100].spu, gdf[gdf.spu <= 100].mean_cv);"
   ]
  },
  {
   "cell_type": "code",
   "execution_count": 137,
   "metadata": {
    "execution": {
     "iopub.execute_input": "2021-02-01T03:11:33.829274Z",
     "iopub.status.busy": "2021-02-01T03:11:33.822680Z",
     "iopub.status.idle": "2021-02-01T03:12:05.990093Z",
     "shell.execute_reply": "2021-02-01T03:12:05.964718Z",
     "shell.execute_reply.started": "2021-02-01T03:11:33.829235Z"
    }
   },
   "outputs": [],
   "source": [
    "data = {\n",
    "    'user': [],\n",
    "    'session_id': [],\n",
    "    'session_converted': []\n",
    "}\n",
    "\n",
    "for user_id, num_sessions in enumerate(sessions_per_user):\n",
    "    conversion_rate = conversion_rates[user_id]\n",
    "    for session_id in range(1, num_sessions+1):\n",
    "        session_converted = np.random.choice([0, 1], p=[1-conversion_rate, conversion_rate])\n",
    "        data['user'].append(user_id)\n",
    "        data['session_id'].append(f\"{user_id}-{session_id}\")\n",
    "        data['session_converted'].append(session_converted)"
   ]
  },
  {
   "cell_type": "code",
   "execution_count": 138,
   "metadata": {
    "execution": {
     "iopub.execute_input": "2021-02-01T03:12:06.040432Z",
     "iopub.status.busy": "2021-02-01T03:12:06.033643Z",
     "iopub.status.idle": "2021-02-01T03:12:07.065689Z",
     "shell.execute_reply": "2021-02-01T03:12:07.043537Z",
     "shell.execute_reply.started": "2021-02-01T03:12:06.040390Z"
    }
   },
   "outputs": [
    {
     "data": {
      "text/plain": [
       "(1000069, 3)"
      ]
     },
     "execution_count": 138,
     "metadata": {},
     "output_type": "execute_result"
    }
   ],
   "source": [
    "df = pd.DataFrame(data)\n",
    "df.shape"
   ]
  },
  {
   "cell_type": "code",
   "execution_count": 139,
   "metadata": {
    "execution": {
     "iopub.execute_input": "2021-02-01T03:12:07.122542Z",
     "iopub.status.busy": "2021-02-01T03:12:07.120404Z",
     "iopub.status.idle": "2021-02-01T03:12:07.647072Z",
     "shell.execute_reply": "2021-02-01T03:12:07.632728Z",
     "shell.execute_reply.started": "2021-02-01T03:12:07.122500Z"
    }
   },
   "outputs": [
    {
     "name": "stdout",
     "output_type": "stream",
     "text": [
      "Avg SPU: 10.00069\n"
     ]
    },
    {
     "data": {
      "text/plain": [
       "(100000, 3)"
      ]
     },
     "execution_count": 139,
     "metadata": {},
     "output_type": "execute_result"
    }
   ],
   "source": [
    "udf = (\n",
    "    df\n",
    "    .groupby('user')\n",
    "    .agg(\n",
    "        total_sessions=('session_converted', 'count'),\n",
    "        num_converted=('session_converted', 'sum'),\n",
    "    ).reset_index()\n",
    ")\n",
    "print(f\"Avg SPU: {udf.total_sessions.mean()}\")\n",
    "udf.shape"
   ]
  },
  {
   "cell_type": "code",
   "execution_count": 27,
   "metadata": {
    "execution": {
     "iopub.execute_input": "2021-02-01T01:00:53.471088Z",
     "iopub.status.busy": "2021-02-01T01:00:53.470832Z",
     "iopub.status.idle": "2021-02-01T01:00:55.166234Z",
     "shell.execute_reply": "2021-02-01T01:00:55.165357Z",
     "shell.execute_reply.started": "2021-02-01T01:00:53.471054Z"
    }
   },
   "outputs": [
    {
     "data": {
      "text/html": [
       "<table style=\"border: 2px solid white;\">\n",
       "<tr>\n",
       "<td style=\"vertical-align: top; border: 0px solid white\">\n",
       "<h3 style=\"text-align: left;\">Client</h3>\n",
       "<ul style=\"text-align: left; list-style: none; margin: 0; padding: 0;\">\n",
       "  <li><b>Scheduler: </b>tcp://127.0.0.1:61906</li>\n",
       "  <li><b>Dashboard: </b><a href='http://127.0.0.1:8787/status' target='_blank'>http://127.0.0.1:8787/status</a></li>\n",
       "</ul>\n",
       "</td>\n",
       "<td style=\"vertical-align: top; border: 0px solid white\">\n",
       "<h3 style=\"text-align: left;\">Cluster</h3>\n",
       "<ul style=\"text-align: left; list-style:none; margin: 0; padding: 0;\">\n",
       "  <li><b>Workers: </b>12</li>\n",
       "  <li><b>Cores: </b>12</li>\n",
       "  <li><b>Memory: </b>34.36 GB</li>\n",
       "</ul>\n",
       "</td>\n",
       "</tr>\n",
       "</table>"
      ],
      "text/plain": [
       "<Client: 'tcp://127.0.0.1:61906' processes=12 threads=12, memory=34.36 GB>"
      ]
     },
     "execution_count": 27,
     "metadata": {},
     "output_type": "execute_result"
    }
   ],
   "source": [
    "cluster = LocalCluster(\n",
    "    n_workers=12, \n",
    "    threads_per_worker=1, \n",
    "    processes=True, \n",
    "    silence_logs=logging.ERROR\n",
    ")\n",
    "client = Client(cluster)\n",
    "client\n",
    "\n",
    "# client = Client('tcp://127.0.0.1:57092')\n",
    "# client\n",
    "\n",
    "# client.shutdown()\n",
    "# client.close()"
   ]
  },
  {
   "cell_type": "code",
   "execution_count": 146,
   "metadata": {
    "execution": {
     "iopub.execute_input": "2021-02-01T03:17:22.113513Z",
     "iopub.status.busy": "2021-02-01T03:17:22.107650Z",
     "iopub.status.idle": "2021-02-01T03:17:36.940764Z",
     "shell.execute_reply": "2021-02-01T03:17:36.923041Z",
     "shell.execute_reply.started": "2021-02-01T03:17:22.113477Z"
    }
   },
   "outputs": [
    {
     "data": {
      "text/html": [
       "<table style=\"border: 2px solid white;\">\n",
       "<tr>\n",
       "<td style=\"vertical-align: top; border: 0px solid white\">\n",
       "<h3 style=\"text-align: left;\">Client</h3>\n",
       "<ul style=\"text-align: left; list-style: none; margin: 0; padding: 0;\">\n",
       "  <li><b>Scheduler: </b>tcp://127.0.0.1:61906</li>\n",
       "  <li><b>Dashboard: </b><a href='http://127.0.0.1:8787/status' target='_blank'>http://127.0.0.1:8787/status</a></li>\n",
       "</ul>\n",
       "</td>\n",
       "<td style=\"vertical-align: top; border: 0px solid white\">\n",
       "<h3 style=\"text-align: left;\">Cluster</h3>\n",
       "<ul style=\"text-align: left; list-style:none; margin: 0; padding: 0;\">\n",
       "  <li><b>Workers: </b>11</li>\n",
       "  <li><b>Cores: </b>11</li>\n",
       "  <li><b>Memory: </b>31.50 GB</li>\n",
       "</ul>\n",
       "</td>\n",
       "</tr>\n",
       "</table>"
      ],
      "text/plain": [
       "<Client: 'tcp://127.0.0.1:61906' processes=11 threads=11, memory=31.50 GB>"
      ]
     },
     "execution_count": 146,
     "metadata": {},
     "output_type": "execute_result"
    }
   ],
   "source": [
    "client.restart()"
   ]
  },
  {
   "cell_type": "code",
   "execution_count": 147,
   "metadata": {
    "execution": {
     "iopub.execute_input": "2021-02-01T03:17:37.010876Z",
     "iopub.status.busy": "2021-02-01T03:17:37.001017Z",
     "iopub.status.idle": "2021-02-01T03:19:23.089708Z",
     "shell.execute_reply": "2021-02-01T03:19:23.058907Z",
     "shell.execute_reply.started": "2021-02-01T03:17:37.010831Z"
    }
   },
   "outputs": [],
   "source": [
    "# 1) randomly select 10,000 users, calculate session conversion rate\n",
    "# 2) repeat 10,000 times\n",
    "\n",
    "def simulate_user_randomization(scattered_udf):\n",
    "    res = []\n",
    "    for x in range(0, 500):\n",
    "        sampled_users = scattered_udf.sample(10000, replace=True)\n",
    "        total_sessions = sampled_users['total_sessions'].sum()\n",
    "        total_converted = sampled_users['num_converted'].sum()\n",
    "        res.append({\n",
    "            'total_sessions': total_sessions, \n",
    "            'session_conversion_rate': total_converted/total_sessions\n",
    "        })\n",
    "    return res\n",
    "\n",
    "scattered_udf = client.scatter(udf)\n",
    "delayed_user_randomization_results = []\n",
    "for x in range(0, 100):\n",
    "    result = dask.delayed(simulate_user_randomization)(scattered_udf)\n",
    "    delayed_user_randomization_results.append(result)\n",
    "\n",
    "user_randomization_results = dask.compute(*delayed_user_randomization_results)\n",
    "user_randomization_results = list(itertools.chain.from_iterable(user_randomization_results))"
   ]
  },
  {
   "cell_type": "code",
   "execution_count": 148,
   "metadata": {
    "execution": {
     "iopub.execute_input": "2021-02-01T03:19:23.175402Z",
     "iopub.status.busy": "2021-02-01T03:19:23.174419Z",
     "iopub.status.idle": "2021-02-01T03:19:23.297000Z",
     "shell.execute_reply": "2021-02-01T03:19:23.278362Z",
     "shell.execute_reply.started": "2021-02-01T03:19:23.175366Z"
    }
   },
   "outputs": [
    {
     "name": "stdout",
     "output_type": "stream",
     "text": [
      "0.0863443420400332\n",
      "100004.80278\n"
     ]
    }
   ],
   "source": [
    "print(np.mean([x['session_conversion_rate'] for x in user_randomization_results]))\n",
    "print(np.mean([x['total_sessions'] for x in user_randomization_results]))"
   ]
  },
  {
   "cell_type": "code",
   "execution_count": 149,
   "metadata": {
    "execution": {
     "iopub.execute_input": "2021-02-01T03:19:23.347620Z",
     "iopub.status.busy": "2021-02-01T03:19:23.341975Z",
     "iopub.status.idle": "2021-02-01T03:25:11.271445Z",
     "shell.execute_reply": "2021-02-01T03:25:11.232077Z",
     "shell.execute_reply.started": "2021-02-01T03:19:23.347577Z"
    }
   },
   "outputs": [],
   "source": [
    "# see how many sessions you got, on average, in :point-up:\n",
    "# 1) randomly select X sessions, calculate session conversion rate\n",
    "# 2) repeat 10,000 times\n",
    "avg_num_sessions = int(np.mean([x['total_sessions'] for x in user_randomization_results]))\n",
    "# print(avg_num_sessions)\n",
    "\n",
    "def simulate_session_randomization(scattered_df):\n",
    "    res = []\n",
    "    for x in range(0, 500):\n",
    "        sampled_sessions = scattered_df.sample(avg_num_sessions, replace=True)\n",
    "        total_sessions = sampled_sessions['session_converted'].count()\n",
    "        total_converted = sampled_sessions['session_converted'].sum()    \n",
    "        res.append(total_converted/total_sessions)\n",
    "    return res\n",
    "\n",
    "scattered_df = client.scatter(df)\n",
    "delayed_session_randomization_results = []\n",
    "for x in range(0, 100):\n",
    "    result = dask.delayed(simulate_session_randomization)(scattered_df)\n",
    "    delayed_session_randomization_results.append(result)\n",
    "\n",
    "session_randomization_results = dask.compute(*delayed_session_randomization_results)\n",
    "session_randomization_results = list(itertools.chain.from_iterable(session_randomization_results))"
   ]
  },
  {
   "cell_type": "code",
   "execution_count": 150,
   "metadata": {
    "execution": {
     "iopub.execute_input": "2021-02-01T03:25:11.354640Z",
     "iopub.status.busy": "2021-02-01T03:25:11.348713Z",
     "iopub.status.idle": "2021-02-01T03:25:11.514574Z",
     "shell.execute_reply": "2021-02-01T03:25:11.502152Z",
     "shell.execute_reply.started": "2021-02-01T03:25:11.354600Z"
    }
   },
   "outputs": [
    {
     "name": "stdout",
     "output_type": "stream",
     "text": [
      "0.08634213091476342\n"
     ]
    }
   ],
   "source": [
    "print(np.mean([x for x in session_randomization_results]))"
   ]
  },
  {
   "cell_type": "code",
   "execution_count": 151,
   "metadata": {
    "execution": {
     "iopub.execute_input": "2021-02-01T03:25:11.568975Z",
     "iopub.status.busy": "2021-02-01T03:25:11.563288Z",
     "iopub.status.idle": "2021-02-01T03:25:33.673120Z",
     "shell.execute_reply": "2021-02-01T03:25:33.643932Z",
     "shell.execute_reply.started": "2021-02-01T03:25:11.568938Z"
    }
   },
   "outputs": [
    {
     "data": {
      "image/png": "[encoded data removed]",
      "text/plain": [
       "<Figure size 432x288 with 1 Axes>"
      ]
     },
     "metadata": {
      "needs_background": "light"
     },
     "output_type": "display_data"
    }
   ],
   "source": [
    "sl = [x for x in session_randomization_results]\n",
    "ul = [x['session_conversion_rate'] for x in user_randomization_results]\n",
    "\n",
    "plt.title('Session Conversion Rate')\n",
    "plt.hist(sl, bins=100, alpha=0.6, color='b', label='Session Randomization', histtype='step');\n",
    "plt.hist(ul, bins=100, alpha=0.6, color='r', label='User Randomization', histtype='step');\n",
    "plt.legend();"
   ]
  },
  {
   "cell_type": "code",
   "execution_count": null,
   "metadata": {},
   "outputs": [],
   "source": []
  }
 ],
 "metadata": {
  "kernelspec": {
   "display_name": "Python 3",
   "language": "python",
   "name": "python3"
  },
  "language_info": {
   "codemirror_mode": {
    "name": "ipython",
    "version": 3
   },
   "file_extension": ".py",
   "mimetype": "text/x-python",
   "name": "python",
   "nbconvert_exporter": "python",
   "pygments_lexer": "ipython3",
   "version": "3.7.6"
  }
 },
 "nbformat": 4,
 "nbformat_minor": 4
}
