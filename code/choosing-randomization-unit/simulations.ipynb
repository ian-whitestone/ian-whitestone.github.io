{
 "cells": [
  {
   "cell_type": "code",
   "execution_count": 1,
   "metadata": {
    "execution": {
     "iopub.execute_input": "2021-01-31T21:09:06.058959Z",
     "iopub.status.busy": "2021-01-31T21:09:06.058623Z",
     "iopub.status.idle": "2021-01-31T21:09:08.381710Z",
     "shell.execute_reply": "2021-01-31T21:09:08.381070Z",
     "shell.execute_reply.started": "2021-01-31T21:09:06.058904Z"
    }
   },
   "outputs": [],
   "source": [
    "import matplotlib.pyplot as plt\n",
    "import matplotlib.ticker as ticker\n",
    "\n",
    "import numpy as np\n",
    "from scipy.stats import beta\n",
    "import pandas as pd\n",
    "import pymc3 as pm\n",
    "\n",
    "from dask.distributed import Client, LocalCluster\n",
    "import dask.delayed\n",
    "\n",
    "import logging"
   ]
  },
  {
   "cell_type": "code",
   "execution_count": null,
   "metadata": {},
   "outputs": [],
   "source": []
  },
  {
   "cell_type": "markdown",
   "metadata": {},
   "source": [
    "# Session level randomization with independent sessions"
   ]
  },
  {
   "cell_type": "code",
   "execution_count": 2,
   "metadata": {
    "execution": {
     "iopub.execute_input": "2021-01-31T21:09:08.383547Z",
     "iopub.status.busy": "2021-01-31T21:09:08.383327Z",
     "iopub.status.idle": "2021-01-31T21:09:08.390139Z",
     "shell.execute_reply": "2021-01-31T21:09:08.389538Z",
     "shell.execute_reply.started": "2021-01-31T21:09:08.383522Z"
    }
   },
   "outputs": [],
   "source": [
    "num_users = 10000\n",
    "\n",
    "sessions_per_user = np.random.geometric(0.5, size=num_users)\n",
    "\n",
    "# each user has some baseline conversion rate, we'll say ~10%\n",
    "baseline_conversion_rates = np.random.beta(100, 900, size=num_users);\n",
    "\n",
    "# treatment group will get a +2% lift in conversion (20% relative increase)\n",
    "conversion_uplifts = np.random.beta(20, 980, size=num_users);"
   ]
  },
  {
   "cell_type": "code",
   "execution_count": 3,
   "metadata": {
    "execution": {
     "iopub.execute_input": "2021-01-31T21:09:08.393825Z",
     "iopub.status.busy": "2021-01-31T21:09:08.393481Z",
     "iopub.status.idle": "2021-01-31T21:09:08.932413Z",
     "shell.execute_reply": "2021-01-31T21:09:08.931929Z",
     "shell.execute_reply.started": "2021-01-31T21:09:08.393798Z"
    }
   },
   "outputs": [
    {
     "data": {
      "image/png": "[encoded data removed]",
      "text/plain": [
       "<Figure size 1224x288 with 3 Axes>"
      ]
     },
     "metadata": {
      "needs_background": "light"
     },
     "output_type": "display_data"
    }
   ],
   "source": [
    "fig, axs = plt.subplots(1, 3, figsize=(17, 4));\n",
    "axs[0].hist(sessions_per_user, bins=np.arange(0, 11)-0.5, range=(0, 11), density=True, rwidth=0.5);\n",
    "axs[0].set_title('Sessions per user distribution');\n",
    "axs[0].get_yaxis().set_visible(False);\n",
    "axs[0].set_xticks([x for x in range(0, 11)]);\n",
    "axs[0].set_xticklabels([str(x) for x in range(0, 11)]);\n",
    "\n",
    "\n",
    "axs[1].hist(baseline_conversion_rates, bins=100, density=True);\n",
    "axs[1].set_title('Baseline conversion rates');\n",
    "axs[1].xaxis.set_major_formatter(ticker.PercentFormatter(xmax=1));\n",
    "axs[1].get_yaxis().set_visible(False);\n",
    "\n",
    "\n",
    "axs[2].hist(conversion_uplifts, bins=100, density=True);\n",
    "axs[2].set_title('Converison rate uplifts (absolute)');\n",
    "axs[2].xaxis.set_major_formatter(ticker.PercentFormatter(xmax=1));\n",
    "axs[2].get_yaxis().set_visible(False);\n"
   ]
  },
  {
   "cell_type": "code",
   "execution_count": 4,
   "metadata": {
    "execution": {
     "iopub.execute_input": "2021-01-31T21:09:08.936691Z",
     "iopub.status.busy": "2021-01-31T21:09:08.936436Z",
     "iopub.status.idle": "2021-01-31T21:09:09.590692Z",
     "shell.execute_reply": "2021-01-31T21:09:09.590158Z",
     "shell.execute_reply.started": "2021-01-31T21:09:08.936650Z"
    }
   },
   "outputs": [],
   "source": [
    "data = {\n",
    "    'user': [],\n",
    "    'session_id': [],\n",
    "    'assignment': [],\n",
    "    'session_converted': []\n",
    "}\n",
    "\n",
    "# Simulate all sessions for each user\n",
    "for user_id, num_sessions in enumerate(sessions_per_user):\n",
    "    for session_id in range(1, num_sessions+1):\n",
    "        # randomly assign session to control (0) or test (1)\n",
    "        assignment = np.random.randint(0, 2)\n",
    "        \n",
    "        # if assigned to test, give them a conversion boost\n",
    "        new_conversion_rate = baseline_conversion_rates[user_id] + assignment*conversion_uplifts[user_id]\n",
    "        \n",
    "        # see if the session converted\n",
    "        session_converted = np.random.choice([0, 1], p=[1-new_conversion_rate, new_conversion_rate])\n",
    "        \n",
    "        # record the results\n",
    "        data['user'].append(user_id)\n",
    "        data['session_id'].append(f\"{user_id}-{session_id}\")\n",
    "        data['assignment'].append(assignment)\n",
    "        data['session_converted'].append(session_converted)"
   ]
  },
  {
   "cell_type": "code",
   "execution_count": 5,
   "metadata": {
    "execution": {
     "iopub.execute_input": "2021-01-31T21:09:09.592177Z",
     "iopub.status.busy": "2021-01-31T21:09:09.592012Z",
     "iopub.status.idle": "2021-01-31T21:09:09.620540Z",
     "shell.execute_reply": "2021-01-31T21:09:09.619932Z",
     "shell.execute_reply.started": "2021-01-31T21:09:09.592156Z"
    }
   },
   "outputs": [
    {
     "name": "stdout",
     "output_type": "stream",
     "text": [
      "Average sessions per user: 2.020\n"
     ]
    },
    {
     "data": {
      "text/html": [
       "<div>\n",
       "<style scoped>\n",
       "    .dataframe tbody tr th:only-of-type {\n",
       "        vertical-align: middle;\n",
       "    }\n",
       "\n",
       "    .dataframe tbody tr th {\n",
       "        vertical-align: top;\n",
       "    }\n",
       "\n",
       "    .dataframe thead th {\n",
       "        text-align: right;\n",
       "    }\n",
       "</style>\n",
       "<table border=\"1\" class=\"dataframe\">\n",
       "  <thead>\n",
       "    <tr style=\"text-align: right;\">\n",
       "      <th></th>\n",
       "      <th>user</th>\n",
       "      <th>session_id</th>\n",
       "      <th>assignment</th>\n",
       "      <th>session_converted</th>\n",
       "    </tr>\n",
       "  </thead>\n",
       "  <tbody>\n",
       "    <tr>\n",
       "      <th>0</th>\n",
       "      <td>0</td>\n",
       "      <td>0-1</td>\n",
       "      <td>1</td>\n",
       "      <td>0</td>\n",
       "    </tr>\n",
       "    <tr>\n",
       "      <th>1</th>\n",
       "      <td>0</td>\n",
       "      <td>0-2</td>\n",
       "      <td>0</td>\n",
       "      <td>0</td>\n",
       "    </tr>\n",
       "    <tr>\n",
       "      <th>2</th>\n",
       "      <td>0</td>\n",
       "      <td>0-3</td>\n",
       "      <td>1</td>\n",
       "      <td>0</td>\n",
       "    </tr>\n",
       "    <tr>\n",
       "      <th>3</th>\n",
       "      <td>1</td>\n",
       "      <td>1-1</td>\n",
       "      <td>1</td>\n",
       "      <td>0</td>\n",
       "    </tr>\n",
       "    <tr>\n",
       "      <th>4</th>\n",
       "      <td>2</td>\n",
       "      <td>2-1</td>\n",
       "      <td>0</td>\n",
       "      <td>1</td>\n",
       "    </tr>\n",
       "    <tr>\n",
       "      <th>...</th>\n",
       "      <td>...</td>\n",
       "      <td>...</td>\n",
       "      <td>...</td>\n",
       "      <td>...</td>\n",
       "    </tr>\n",
       "    <tr>\n",
       "      <th>20191</th>\n",
       "      <td>9998</td>\n",
       "      <td>9998-2</td>\n",
       "      <td>1</td>\n",
       "      <td>0</td>\n",
       "    </tr>\n",
       "    <tr>\n",
       "      <th>20192</th>\n",
       "      <td>9998</td>\n",
       "      <td>9998-3</td>\n",
       "      <td>0</td>\n",
       "      <td>0</td>\n",
       "    </tr>\n",
       "    <tr>\n",
       "      <th>20193</th>\n",
       "      <td>9999</td>\n",
       "      <td>9999-1</td>\n",
       "      <td>1</td>\n",
       "      <td>0</td>\n",
       "    </tr>\n",
       "    <tr>\n",
       "      <th>20194</th>\n",
       "      <td>9999</td>\n",
       "      <td>9999-2</td>\n",
       "      <td>0</td>\n",
       "      <td>0</td>\n",
       "    </tr>\n",
       "    <tr>\n",
       "      <th>20195</th>\n",
       "      <td>9999</td>\n",
       "      <td>9999-3</td>\n",
       "      <td>1</td>\n",
       "      <td>0</td>\n",
       "    </tr>\n",
       "  </tbody>\n",
       "</table>\n",
       "<p>20196 rows × 4 columns</p>\n",
       "</div>"
      ],
      "text/plain": [
       "       user session_id  assignment  session_converted\n",
       "0         0        0-1           1                  0\n",
       "1         0        0-2           0                  0\n",
       "2         0        0-3           1                  0\n",
       "3         1        1-1           1                  0\n",
       "4         2        2-1           0                  1\n",
       "...     ...        ...         ...                ...\n",
       "20191  9998     9998-2           1                  0\n",
       "20192  9998     9998-3           0                  0\n",
       "20193  9999     9999-1           1                  0\n",
       "20194  9999     9999-2           0                  0\n",
       "20195  9999     9999-3           1                  0\n",
       "\n",
       "[20196 rows x 4 columns]"
      ]
     },
     "execution_count": 5,
     "metadata": {},
     "output_type": "execute_result"
    }
   ],
   "source": [
    "df = pd.DataFrame(data)\n",
    "print (f\"Average sessions per user: {df.shape[0] / len(df.user.unique()):0.3f}\")\n",
    "df"
   ]
  },
  {
   "cell_type": "code",
   "execution_count": 6,
   "metadata": {
    "execution": {
     "iopub.execute_input": "2021-01-31T21:09:09.621816Z",
     "iopub.status.busy": "2021-01-31T21:09:09.621651Z",
     "iopub.status.idle": "2021-01-31T21:09:09.641646Z",
     "shell.execute_reply": "2021-01-31T21:09:09.641065Z",
     "shell.execute_reply.started": "2021-01-31T21:09:09.621793Z"
    }
   },
   "outputs": [],
   "source": [
    "num_samples = 50000\n",
    "\n",
    "control_converted = df[df.assignment==0].session_converted.sum()\n",
    "control_total = df[df.assignment==0].session_converted.count()\n",
    "control_samples = np.random.beta(control_converted, control_total - control_converted, size=num_samples)\n",
    "\n",
    "\n",
    "test_converted = df[df.assignment==1].session_converted.sum()\n",
    "test_total = df[df.assignment==1].session_converted.count()\n",
    "test_samples = np.random.beta(test_converted, test_total - test_converted, size=num_samples)"
   ]
  },
  {
   "cell_type": "code",
   "execution_count": 7,
   "metadata": {
    "execution": {
     "iopub.execute_input": "2021-01-31T21:09:09.642945Z",
     "iopub.status.busy": "2021-01-31T21:09:09.642617Z",
     "iopub.status.idle": "2021-01-31T21:09:09.646943Z",
     "shell.execute_reply": "2021-01-31T21:09:09.646057Z",
     "shell.execute_reply.started": "2021-01-31T21:09:09.642913Z"
    }
   },
   "outputs": [
    {
     "name": "stdout",
     "output_type": "stream",
     "text": [
      "Test converts higher than control: 100% of the time\n"
     ]
    }
   ],
   "source": [
    "test_gt_control = (test_samples > control_samples).mean()\n",
    "print(f\"Test converts higher than control: {test_gt_control:0.0%} of the time\")"
   ]
  },
  {
   "cell_type": "code",
   "execution_count": 8,
   "metadata": {
    "execution": {
     "iopub.execute_input": "2021-01-31T21:09:09.648355Z",
     "iopub.status.busy": "2021-01-31T21:09:09.648052Z",
     "iopub.status.idle": "2021-01-31T21:09:10.510653Z",
     "shell.execute_reply": "2021-01-31T21:09:10.509958Z",
     "shell.execute_reply.started": "2021-01-31T21:09:09.648326Z"
    }
   },
   "outputs": [
    {
     "data": {
      "image/png": "[encoded data removed]",
      "text/plain": [
       "<Figure size 1440x432 with 2 Axes>"
      ]
     },
     "metadata": {
      "needs_background": "light"
     },
     "output_type": "display_data"
    }
   ],
   "source": [
    "fig, axs = plt.subplots(1, 2, figsize=(20, 6));\n",
    "axs[0].hist(control_samples, density=True, bins=100, alpha=0.7, color='b', label='Control');\n",
    "axs[0].hist(test_samples, density=True, bins=100, alpha=0.7, color='r', label='Treatment');\n",
    "axs[0].xaxis.set_major_formatter(ticker.PercentFormatter(xmax=1));\n",
    "axs[0].set_title('Session Conversion Rate');\n",
    "axs[0].get_yaxis().set_visible(False);\n",
    "axs[0].legend();\n",
    "\n",
    "\n",
    "diffs = test_samples - control_samples\n",
    "p10_diff = np.percentile(diffs, 10)\n",
    "p90_diff = np.percentile(diffs, 90)\n",
    "mean_diff = np.mean(diffs)\n",
    "axs[1].hist(diffs, density=True, bins=100, alpha=0.7, color='b');\n",
    "axs[1].axvline(p10_diff, color='r', linestyle='dashed', label=f'10th Percentile ({p10_diff*100*100:0.0f} bps)');\n",
    "axs[1].axvline(mean_diff, color='k', linestyle='dashed', label=f'Mean ({mean_diff*100*100:0.0f} bps)');\n",
    "axs[1].axvline(p90_diff, color='g', linestyle='dashed', label=f'90th Percentile ({p90_diff*100*100:0.0f} bps)');\n",
    "axs[1].xaxis.set_major_formatter(ticker.PercentFormatter(xmax=1));\n",
    "axs[1].set_title('Difference in Session Conversion Rate');\n",
    "axs[1].get_yaxis().set_visible(False);\n",
    "axs[1].legend();"
   ]
  },
  {
   "cell_type": "code",
   "execution_count": null,
   "metadata": {},
   "outputs": [],
   "source": []
  },
  {
   "cell_type": "markdown",
   "metadata": {},
   "source": [
    "# Adjusting for nonindependence"
   ]
  },
  {
   "cell_type": "code",
   "execution_count": 9,
   "metadata": {
    "execution": {
     "iopub.execute_input": "2021-01-31T21:09:10.512054Z",
     "iopub.status.busy": "2021-01-31T21:09:10.511642Z",
     "iopub.status.idle": "2021-01-31T21:09:11.167710Z",
     "shell.execute_reply": "2021-01-31T21:09:11.167085Z",
     "shell.execute_reply.started": "2021-01-31T21:09:10.512031Z"
    }
   },
   "outputs": [],
   "source": [
    "data = {\n",
    "    'user': [],\n",
    "    'session_id': [],\n",
    "    'assignment': [],\n",
    "    'session_converted': []\n",
    "}\n",
    "\n",
    "# create a copy of the session conversion rates for each user\n",
    "# we'll use this to keep track of each user's session conversion rate\n",
    "# throughout the simulation in case it changes\n",
    "conversion_rates = baseline_conversion_rates.copy()\n",
    "\n",
    "# Simulate all sessions for each user\n",
    "for user_id, num_sessions in enumerate(sessions_per_user):\n",
    "    for session_id in range(1, num_sessions+1):\n",
    "        # randomly assign session to control (0) or test (1)\n",
    "        assignment = np.random.randint(0, 2)\n",
    "        \n",
    "        if assignment == 1:\n",
    "            # increase user's conversion rate permanently\n",
    "            conversion_rates[user_id] = baseline_conversion_rates[user_id] + conversion_uplifts[user_id]\n",
    "            new_conversion_rate = conversion_rates[user_id]\n",
    "        else:\n",
    "            new_conversion_rate = conversion_rates[user_id]\n",
    "        \n",
    "        # see if the session converted\n",
    "        session_converted = np.random.choice([0, 1], p=[1-new_conversion_rate, new_conversion_rate])\n",
    "        \n",
    "        # record the results\n",
    "        data['user'].append(user_id)\n",
    "        data['session_id'].append(f\"{user_id}-{session_id}\")\n",
    "        data['assignment'].append(assignment)\n",
    "        data['session_converted'].append(session_converted)\n",
    "        \n",
    "df = pd.DataFrame(data)"
   ]
  },
  {
   "cell_type": "code",
   "execution_count": null,
   "metadata": {},
   "outputs": [],
   "source": []
  },
  {
   "cell_type": "markdown",
   "metadata": {},
   "source": [
    "# Local Dask Cluster"
   ]
  },
  {
   "cell_type": "code",
   "execution_count": 10,
   "metadata": {
    "execution": {
     "iopub.execute_input": "2021-01-31T21:09:11.170059Z",
     "iopub.status.busy": "2021-01-31T21:09:11.169879Z",
     "iopub.status.idle": "2021-01-31T21:09:12.394881Z",
     "shell.execute_reply": "2021-01-31T21:09:12.394096Z",
     "shell.execute_reply.started": "2021-01-31T21:09:11.170037Z"
    }
   },
   "outputs": [
    {
     "data": {
      "text/html": [
       "<table style=\"border: 2px solid white;\">\n",
       "<tr>\n",
       "<td style=\"vertical-align: top; border: 0px solid white\">\n",
       "<h3 style=\"text-align: left;\">Client</h3>\n",
       "<ul style=\"text-align: left; list-style: none; margin: 0; padding: 0;\">\n",
       "  <li><b>Scheduler: </b>tcp://127.0.0.1:59867</li>\n",
       "  <li><b>Dashboard: </b><a href='http://127.0.0.1:8787/status' target='_blank'>http://127.0.0.1:8787/status</a></li>\n",
       "</ul>\n",
       "</td>\n",
       "<td style=\"vertical-align: top; border: 0px solid white\">\n",
       "<h3 style=\"text-align: left;\">Cluster</h3>\n",
       "<ul style=\"text-align: left; list-style:none; margin: 0; padding: 0;\">\n",
       "  <li><b>Workers: </b>12</li>\n",
       "  <li><b>Cores: </b>12</li>\n",
       "  <li><b>Memory: </b>34.36 GB</li>\n",
       "</ul>\n",
       "</td>\n",
       "</tr>\n",
       "</table>"
      ],
      "text/plain": [
       "<Client: 'tcp://127.0.0.1:59867' processes=12 threads=12, memory=34.36 GB>"
      ]
     },
     "execution_count": 10,
     "metadata": {},
     "output_type": "execute_result"
    }
   ],
   "source": [
    "cluster = LocalCluster(\n",
    "    n_workers=12, \n",
    "    threads_per_worker=1, \n",
    "    processes=True, \n",
    "    silence_logs=logging.ERROR\n",
    ")\n",
    "client = Client(cluster) # tcp://127.0.0.1:59867\n",
    "client\n",
    "\n",
    "# client.shutdown()\n",
    "# client.close()"
   ]
  },
  {
   "cell_type": "markdown",
   "metadata": {},
   "source": [
    "# Run Simulation Function"
   ]
  },
  {
   "cell_type": "code",
   "execution_count": 28,
   "metadata": {
    "execution": {
     "iopub.execute_input": "2021-01-31T23:43:54.717762Z",
     "iopub.status.busy": "2021-01-31T23:43:54.709514Z",
     "iopub.status.idle": "2021-01-31T23:43:54.911382Z",
     "shell.execute_reply": "2021-01-31T23:43:54.892502Z",
     "shell.execute_reply.started": "2021-01-31T23:43:54.717716Z"
    }
   },
   "outputs": [],
   "source": [
    "def calculate_metrics(data, metric):\n",
    "\n",
    "    df = pd.DataFrame(data)\n",
    "    num_samples = 50000\n",
    "    \n",
    "    if metric == 'user':\n",
    "        df = df.groupby(['user', 'assignment']).agg(converted=('session_converted', 'max')).reset_index()\n",
    "    elif metric == 'session':\n",
    "        df['converted'] = df['session_converted']\n",
    "    else:\n",
    "        raise NotImplementedError(\"Metric must be 'user' or 'session'\")    \n",
    "\n",
    "    control_converted = df[df.assignment==0].converted.sum()\n",
    "    control_total = df[df.assignment==0].converted.count()\n",
    "    control_samples = np.random.beta(control_converted, control_total - control_converted, size=num_samples)\n",
    "\n",
    "    test_converted = df[df.assignment==1].converted.sum()\n",
    "    test_total = df[df.assignment==1].converted.count()\n",
    "    test_samples = np.random.beta(test_converted, test_total - test_converted, size=num_samples)\n",
    "\n",
    "    # how often does test convert higher than the control?\n",
    "    test_gt_control = (test_samples > control_samples).mean()\n",
    "    # in what range do we think the true conversion rates lie?\n",
    "    test_interval = [np.percentile(test_samples, 10), np.percentile(test_samples, 90)]\n",
    "    control_interval = [np.percentile(control_samples, 10), np.percentile(control_samples, 90)]\n",
    "    \n",
    "    # how much better is test than control?\n",
    "    diffs = test_samples - control_samples\n",
    "    diff_interval = [np.percentile(diffs, 10), np.percentile(diffs, 90)]\n",
    "    mean_diff = np.mean(diffs)\n",
    "    \n",
    "    return {\n",
    "        'test_gt_control': test_gt_control,\n",
    "        'test_interval': test_interval,\n",
    "        'control_interval': control_interval,\n",
    "        'diff_interval': diff_interval,\n",
    "        'mean_diff': mean_diff\n",
    "        \n",
    "    }\n",
    "        \n",
    "def run_simulation(\n",
    "        num_users=30000, \n",
    "        baseline_conversion=0.1, \n",
    "        relative_uplift=0.1, \n",
    "        is_aa_test=False,\n",
    "        randomization_unit='session',\n",
    "        persist_treatment_effect=False,\n",
    "        geometric_p=0.5,\n",
    "        conversion_dependent_on_spu=False,\n",
    "        conversion_spu_func=None\n",
    "    ):\n",
    "\n",
    "    if randomization_unit not in ['session', 'user']:\n",
    "        raise NotImplementedError(\"randomization_unit must be 'session' or 'user'\")\n",
    "    \n",
    "    # sessions per user\n",
    "    sessions_per_user = np.random.geometric(geometric_p, size=num_users)\n",
    "    \n",
    "    # each user has some baseline conversion rate\n",
    "    if conversion_dependent_on_spu:\n",
    "        _baseline_conversion_rates = conversion_spu_func(baseline_conversion, sessions_per_user)\n",
    "        a = _baseline_conversion_rates*1000\n",
    "        b = 1000 - _baseline_conversion_rates*1000\n",
    "        baseline_conversion_rates = np.random.beta(a, b, size=num_users)\n",
    "    else:\n",
    "        a = baseline_conversion*1000\n",
    "        b = 1000 - a\n",
    "        baseline_conversion_rates = np.random.beta(a, b, size=num_users)\n",
    "\n",
    "    if is_aa_test:\n",
    "        conversion_uplifts = np.zeros(shape=num_users)\n",
    "    else:\n",
    "        # each user will experience a conversion uplift of 10% relative, so 0.2% or 20bps (absolute)\n",
    "        # larger sample size to emphasize confidence in 20 bps effect size for the sake of demonstration\n",
    "        a = baseline_conversion*relative_uplift*10000\n",
    "        b = 10000 - a\n",
    "        conversion_uplifts = np.random.beta(a, b, size=num_users)\n",
    "\n",
    "    # session level randomization\n",
    "    data = {\n",
    "        'user': [],\n",
    "        'session_id': [],\n",
    "        'assignment': [],\n",
    "        'session_converted': []\n",
    "    }\n",
    "\n",
    "    conversion_rates = baseline_conversion_rates.copy()\n",
    "\n",
    "    for user_id, num_sessions in enumerate(sessions_per_user):\n",
    "        if randomization_unit == 'user':\n",
    "            assignment = np.random.randint(0, 2)\n",
    "            \n",
    "        for session_id in range(1, num_sessions+1):\n",
    "            if randomization_unit == 'session':\n",
    "                assignment = np.random.randint(0, 2)\n",
    "            \n",
    "            if assignment == 1 and persist_treatment_effect:\n",
    "                # increase user conversion rate permanently\n",
    "                conversion_rates[user_id] = baseline_conversion_rates[user_id] + conversion_uplifts[user_id]\n",
    "                user_conversion_rate = conversion_rates[user_id]\n",
    "            elif assignment == 1:\n",
    "                # temporarily increase conversion rate for given session\n",
    "                user_conversion_rate = baseline_conversion_rates[user_id] + conversion_uplifts[user_id]\n",
    "            else:\n",
    "                user_conversion_rate = conversion_rates[user_id]\n",
    "            \n",
    "            session_converted = np.random.choice([0, 1], p=[1-user_conversion_rate, user_conversion_rate])\n",
    "            data['user'].append(user_id)\n",
    "            data['session_id'].append(f\"{user_id}-{session_id}\")\n",
    "            data['assignment'].append(assignment)\n",
    "            data['session_converted'].append(session_converted)\n",
    "\n",
    "    # now do bayesian analysis with our observered results\n",
    "    return {\n",
    "        'session_conversion': calculate_metrics(data, metric='session'),\n",
    "        'user_conversion': calculate_metrics(data, metric='user'),\n",
    "    }"
   ]
  },
  {
   "cell_type": "code",
   "execution_count": 30,
   "metadata": {
    "execution": {
     "iopub.execute_input": "2021-01-31T23:44:45.907061Z",
     "iopub.status.busy": "2021-01-31T23:44:45.900171Z",
     "iopub.status.idle": "2021-01-31T23:44:51.987210Z",
     "shell.execute_reply": "2021-01-31T23:44:51.969493Z",
     "shell.execute_reply.started": "2021-01-31T23:44:45.907020Z"
    }
   },
   "outputs": [
    {
     "data": {
      "text/plain": [
       "{'session_conversion': {'test_gt_control': 1.0,\n",
       "  'test_interval': [0.0902155555788382, 0.09449700302468118],\n",
       "  'control_interval': [0.07602173045769126, 0.08000847063171752],\n",
       "  'diff_interval': [0.011415089259289742, 0.017256651469247014],\n",
       "  'mean_diff': 0.014338944066677486},\n",
       " 'user_conversion': {'test_gt_control': 1.0,\n",
       "  'test_interval': [0.16726041753239856, 0.17516143925513078],\n",
       "  'control_interval': [0.14204752243190533, 0.1494356955346826],\n",
       "  'diff_interval': [0.020084265895938532, 0.030893171551643225],\n",
       "  'mean_diff': 0.025462020520587183}}"
      ]
     },
     "execution_count": 30,
     "metadata": {},
     "output_type": "execute_result"
    }
   ],
   "source": [
    "run_simulation(\n",
    "    num_users=30000, \n",
    "    baseline_conversion=0.1, \n",
    "    relative_uplift=0.1, \n",
    "    is_aa_test=False,\n",
    "    randomization_unit='user',\n",
    "    persist_treatment_effect=False,\n",
    "    geometric_p=0.5,\n",
    "    conversion_dependent_on_spu=True,\n",
    "    conversion_spu_func=lambda x,y: x*2/3 + x*1/3*np.exp(-0.4*y)\n",
    ")"
   ]
  },
  {
   "cell_type": "markdown",
   "metadata": {},
   "source": [
    "# Simulations"
   ]
  },
  {
   "cell_type": "markdown",
   "metadata": {
    "execution": {
     "iopub.execute_input": "2021-01-24T21:35:54.095657Z",
     "iopub.status.busy": "2021-01-24T21:35:54.095197Z",
     "iopub.status.idle": "2021-01-24T21:38:36.389203Z",
     "shell.execute_reply": "2021-01-24T21:38:36.386747Z",
     "shell.execute_reply.started": "2021-01-24T21:35:54.095622Z"
    }
   },
   "source": [
    "## A/B Test - Session Level Randomization"
   ]
  },
  {
   "cell_type": "code",
   "execution_count": 93,
   "metadata": {
    "execution": {
     "iopub.execute_input": "2021-01-31T19:19:18.942604Z",
     "iopub.status.busy": "2021-01-31T19:19:18.929945Z",
     "iopub.status.idle": "2021-01-31T19:20:35.868713Z",
     "shell.execute_reply": "2021-01-31T19:20:35.861340Z",
     "shell.execute_reply.started": "2021-01-31T19:19:18.942562Z"
    }
   },
   "outputs": [
    {
     "name": "stdout",
     "output_type": "stream",
     "text": [
      "Detected positive effect 100.0% of the time\n",
      "Average effect size detected: 201 bps\n",
      "\n"
     ]
    }
   ],
   "source": [
    "delayed_results = []\n",
    "\n",
    "NUM_EXPERIMENTS = 250\n",
    "for iteration in range(0, NUM_EXPERIMENTS):\n",
    "    result = dask.delayed(run_simulation)(\n",
    "        num_users=10000, \n",
    "        baseline_conversion=0.1, \n",
    "        relative_uplift=0.2, \n",
    "        is_aa_test=False,\n",
    "        randomization_unit='session',\n",
    "        persist_treatment_effect=False,\n",
    "        geometric_p=0.5,\n",
    "    )\n",
    "    delayed_results.append(result)\n",
    "\n",
    "results = dask.compute(*delayed_results)\n",
    "\n",
    "num_positive_effects_detected = np.sum([res['session_conversion']['test_gt_control'] > 0.95 for res in results])\n",
    "avg_effect_size = np.mean([res['session_conversion']['mean_diff'] for res in results if res['session_conversion']['test_gt_control'] > 0.95])\n",
    "\n",
    "print(\n",
    "    f\"Detected positive effect {num_positive_effects_detected/len(results):0.1%} of the time\\n\"\n",
    "    f\"Average effect size detected: {avg_effect_size*100*100:0.0f} bps\\n\"\n",
    ")"
   ]
  },
  {
   "cell_type": "markdown",
   "metadata": {
    "execution": {
     "iopub.execute_input": "2021-01-24T21:35:54.095657Z",
     "iopub.status.busy": "2021-01-24T21:35:54.095197Z",
     "iopub.status.idle": "2021-01-24T21:38:36.389203Z",
     "shell.execute_reply": "2021-01-24T21:38:36.386747Z",
     "shell.execute_reply.started": "2021-01-24T21:35:54.095622Z"
    }
   },
   "source": [
    "## A/B Test - Session Level Randomization with Effect Persistence"
   ]
  },
  {
   "cell_type": "code",
   "execution_count": 82,
   "metadata": {
    "execution": {
     "iopub.execute_input": "2021-01-31T15:31:02.359860Z",
     "iopub.status.busy": "2021-01-31T15:31:02.359549Z",
     "iopub.status.idle": "2021-01-31T15:32:02.531898Z",
     "shell.execute_reply": "2021-01-31T15:32:02.527030Z",
     "shell.execute_reply.started": "2021-01-31T15:31:02.359812Z"
    }
   },
   "outputs": [
    {
     "name": "stdout",
     "output_type": "stream",
     "text": [
      "Detected positive effect 90.0% of the time\n",
      "Average effect size detected: 137 bps\n",
      "\n"
     ]
    }
   ],
   "source": [
    "delayed_results = []\n",
    "\n",
    "NUM_EXPERIMENTS = 250\n",
    "for iteration in range(0, NUM_EXPERIMENTS):\n",
    "    result = dask.delayed(run_simulation)(\n",
    "        num_users=10000, \n",
    "        baseline_conversion=0.1, \n",
    "        relative_uplift=0.2, \n",
    "        is_aa_test=False,\n",
    "        randomization_unit='session',\n",
    "        persist_treatment_effect=True,\n",
    "        geometric_p=0.5,\n",
    "    )\n",
    "    delayed_results.append(result)\n",
    "\n",
    "results = dask.compute(*delayed_results)\n",
    "\n",
    "num_positive_effects_detected = np.sum([res['session_conversion']['test_gt_control'] > 0.95 for res in results])\n",
    "avg_effect_size = np.mean([res['session_conversion']['mean_diff'] for res in results if res['session_conversion']['test_gt_control'] > 0.95])\n",
    "\n",
    "print(\n",
    "    f\"Detected positive effect {num_positive_effects_detected/len(results):0.1%} of the time\\n\"\n",
    "    f\"Average effect size detected: {avg_effect_size*100*100:0.0f} bps\\n\"\n",
    ")"
   ]
  },
  {
   "cell_type": "markdown",
   "metadata": {
    "execution": {
     "iopub.execute_input": "2021-01-24T21:35:54.095657Z",
     "iopub.status.busy": "2021-01-24T21:35:54.095197Z",
     "iopub.status.idle": "2021-01-24T21:38:36.389203Z",
     "shell.execute_reply": "2021-01-24T21:38:36.386747Z",
     "shell.execute_reply.started": "2021-01-24T21:35:54.095622Z"
    }
   },
   "source": [
    "## A/B Test - User Level Randomization with Effect Persistence"
   ]
  },
  {
   "cell_type": "code",
   "execution_count": 83,
   "metadata": {
    "execution": {
     "iopub.execute_input": "2021-01-31T15:33:29.428042Z",
     "iopub.status.busy": "2021-01-31T15:33:29.427362Z",
     "iopub.status.idle": "2021-01-31T15:34:15.901476Z",
     "shell.execute_reply": "2021-01-31T15:34:15.880996Z",
     "shell.execute_reply.started": "2021-01-31T15:33:29.428008Z"
    }
   },
   "outputs": [
    {
     "name": "stdout",
     "output_type": "stream",
     "text": [
      "Detected positive effect 100.0% of the time\n",
      "Average effect size detected: 199 bps\n",
      "\n"
     ]
    }
   ],
   "source": [
    "delayed_results = []\n",
    "\n",
    "NUM_EXPERIMENTS = 250\n",
    "for iteration in range(0, NUM_EXPERIMENTS):\n",
    "    result = dask.delayed(run_simulation)(\n",
    "        num_users=10000, \n",
    "        baseline_conversion=0.1, \n",
    "        relative_uplift=0.2, \n",
    "        is_aa_test=False,\n",
    "        randomization_unit='user',\n",
    "        persist_treatment_effect=True,\n",
    "        geometric_p=0.5,\n",
    "    )\n",
    "    delayed_results.append(result)\n",
    "\n",
    "results = dask.compute(*delayed_results)\n",
    "\n",
    "num_positive_effects_detected = np.sum([res['session_conversion']['test_gt_control'] > 0.95 for res in results])\n",
    "avg_effect_size = np.mean([res['session_conversion']['mean_diff'] for res in results if res['session_conversion']['test_gt_control'] > 0.95])\n",
    "\n",
    "print(\n",
    "    f\"Detected positive effect {num_positive_effects_detected/len(results):0.1%} of the time\\n\"\n",
    "    f\"Average effect size detected: {avg_effect_size*100*100:0.0f} bps\\n\"\n",
    ")"
   ]
  },
  {
   "cell_type": "code",
   "execution_count": null,
   "metadata": {},
   "outputs": [],
   "source": []
  },
  {
   "cell_type": "code",
   "execution_count": null,
   "metadata": {},
   "outputs": [],
   "source": []
  },
  {
   "cell_type": "markdown",
   "metadata": {},
   "source": [
    "# [WIP] A/A Tests: session conversion vs. user conversion when conversion & sessions per user are dependent"
   ]
  },
  {
   "cell_type": "markdown",
   "metadata": {},
   "source": [
    "## User level randomization - session conversion metric"
   ]
  },
  {
   "cell_type": "code",
   "execution_count": 1,
   "metadata": {
    "execution": {
     "iopub.execute_input": "2021-02-02T02:38:19.850977Z",
     "iopub.status.busy": "2021-02-02T02:38:19.839753Z",
     "iopub.status.idle": "2021-02-02T02:38:19.887197Z",
     "shell.execute_reply": "2021-02-02T02:38:19.885715Z",
     "shell.execute_reply.started": "2021-02-02T02:38:19.843256Z"
    }
   },
   "outputs": [],
   "source": [
    "delayed_results = []\n",
    "\n",
    "NUM_EXPERIMENTS = 500\n",
    "for iteration in range(0, NUM_EXPERIMENTS):\n",
    "    result = dask.delayed(run_simulation)(\n",
    "        num_users=4000, \n",
    "        baseline_conversion=0.1, \n",
    "        relative_uplift=0.2, \n",
    "        is_aa_test=True,\n",
    "        randomization_unit='user',\n",
    "        persist_treatment_effect=True,\n",
    "        geometric_p=0.5,\n",
    "        conversion_dependent_on_spu=True,\n",
    "        # TODO: add in func\n",
    "    )\n",
    "    delayed_results.append(result)\n",
    "\n",
    "results = dask.compute(*delayed_results)\n",
    "\n",
    "num_positive_effects_detected = np.sum([res['session_conversion']['test_gt_control'] > 0.95 for res in results])\n",
    "avg_effect_size = np.mean([res['session_conversion']['mean_diff'] for res in results if res['session_conversion']['test_gt_control'] > 0.95])\n",
    "\n",
    "print(\n",
    "    f\"Detected positive effect {num_positive_effects_detected/len(results):0.1%} of the time\\n\"\n",
    ")"
   ]
  },
  {
   "cell_type": "markdown",
   "metadata": {},
   "source": [
    "## User level randomization - user conversion metric"
   ]
  },
  {
   "cell_type": "code",
   "execution_count": 2,
   "metadata": {
    "execution": {
     "iopub.execute_input": "2021-02-02T02:38:27.098473Z",
     "iopub.status.busy": "2021-02-02T02:38:27.098214Z",
     "iopub.status.idle": "2021-02-02T02:38:27.101623Z",
     "shell.execute_reply": "2021-02-02T02:38:27.100913Z",
     "shell.execute_reply.started": "2021-02-02T02:38:27.098445Z"
    }
   },
   "outputs": [],
   "source": [
    "delayed_results = []\n",
    "\n",
    "NUM_EXPERIMENTS = 500\n",
    "for iteration in range(0, NUM_EXPERIMENTS):\n",
    "    result = dask.delayed(run_simulation)(\n",
    "        num_users=4000, \n",
    "        baseline_conversion=0.1, \n",
    "        relative_uplift=0.2, \n",
    "        is_aa_test=True,\n",
    "        randomization_unit='user',\n",
    "        persist_treatment_effect=True,\n",
    "        geometric_p=0.5,\n",
    "        conversion_dependent_on_spu=True,\n",
    "        # TODO: add in func\n",
    "    )\n",
    "    delayed_results.append(result)\n",
    "\n",
    "results = dask.compute(*delayed_results)"
   ]
  },
  {
   "cell_type": "code",
   "execution_count": 3,
   "metadata": {
    "execution": {
     "iopub.execute_input": "2021-02-02T02:38:38.662596Z",
     "iopub.status.busy": "2021-02-02T02:38:38.662372Z",
     "iopub.status.idle": "2021-02-02T02:38:38.665595Z",
     "shell.execute_reply": "2021-02-02T02:38:38.664643Z",
     "shell.execute_reply.started": "2021-02-02T02:38:38.662570Z"
    }
   },
   "outputs": [],
   "source": [
    "for sl in np.arange(0.8, 1, 0.05):\n",
    "    num_positive_effects_detected = np.sum([res['user_conversion']['test_gt_control'] > sl for res in results])\n",
    "\n",
    "    print(\n",
    "        f\"Significance level: {sl:0.0%} - \"\n",
    "        f\"detected positive effect {num_positive_effects_detected/len(results):0.1%} of the time\\n\"\n",
    "    )"
   ]
  }
 ],
 "metadata": {
  "kernelspec": {
   "display_name": "Python 3",
   "language": "python",
   "name": "python3"
  },
  "language_info": {
   "codemirror_mode": {
    "name": "ipython",
    "version": 3
   },
   "file_extension": ".py",
   "mimetype": "text/x-python",
   "name": "python",
   "nbconvert_exporter": "python",
   "pygments_lexer": "ipython3",
   "version": "3.7.6"
  }
 },
 "nbformat": 4,
 "nbformat_minor": 4
}
