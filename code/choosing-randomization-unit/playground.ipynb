{
 "cells": [
  {
   "cell_type": "code",
   "execution_count": 2,
   "metadata": {
    "execution": {
     "iopub.execute_input": "2021-02-01T01:40:21.019297Z",
     "iopub.status.busy": "2021-02-01T01:40:21.018962Z",
     "iopub.status.idle": "2021-02-01T01:40:23.949494Z",
     "shell.execute_reply": "2021-02-01T01:40:23.948403Z",
     "shell.execute_reply.started": "2021-02-01T01:40:21.019257Z"
    }
   },
   "outputs": [],
   "source": [
    "import matplotlib.pyplot as plt\n",
    "import matplotlib.ticker as ticker\n",
    "\n",
    "import numpy as np\n",
    "from scipy.stats import beta\n",
    "import pandas as pd\n",
    "import pymc3 as pm\n",
    "\n",
    "from dask.distributed import Client, LocalCluster\n",
    "import dask.delayed\n",
    "\n",
    "import logging"
   ]
  },
  {
   "cell_type": "code",
   "execution_count": null,
   "metadata": {},
   "outputs": [],
   "source": []
  },
  {
   "cell_type": "markdown",
   "metadata": {},
   "source": [
    "# Generating Our Data"
   ]
  },
  {
   "cell_type": "code",
   "execution_count": 3,
   "metadata": {
    "execution": {
     "iopub.execute_input": "2021-02-01T01:40:23.951593Z",
     "iopub.status.busy": "2021-02-01T01:40:23.951276Z",
     "iopub.status.idle": "2021-02-01T01:40:23.969154Z",
     "shell.execute_reply": "2021-02-01T01:40:23.968100Z",
     "shell.execute_reply.started": "2021-02-01T01:40:23.951524Z"
    }
   },
   "outputs": [
    {
     "name": "stdout",
     "output_type": "stream",
     "text": [
      "Average sessions per user 2.0018\n"
     ]
    },
    {
     "data": {
      "text/plain": [
       "1     0.4996\n",
       "2     0.2503\n",
       "3     0.1246\n",
       "4     0.0646\n",
       "5     0.0308\n",
       "6     0.0141\n",
       "7     0.0070\n",
       "8     0.0044\n",
       "9     0.0026\n",
       "12    0.0005\n",
       "11    0.0005\n",
       "10    0.0005\n",
       "13    0.0003\n",
       "14    0.0002\n",
       "Name: spu, dtype: float64"
      ]
     },
     "execution_count": 3,
     "metadata": {},
     "output_type": "execute_result"
    }
   ],
   "source": [
    "num_users = 10000\n",
    "sessions_per_user = np.random.geometric(0.5, size=num_users)\n",
    "spu = pd.DataFrame({'spu': sessions_per_user})\n",
    "print('Average sessions per user', np.sum(sessions_per_user)/num_users)\n",
    "spu.spu.value_counts() / num_users"
   ]
  },
  {
   "cell_type": "code",
   "execution_count": 4,
   "metadata": {
    "execution": {
     "iopub.execute_input": "2021-02-01T01:40:23.971541Z",
     "iopub.status.busy": "2021-02-01T01:40:23.971305Z",
     "iopub.status.idle": "2021-02-01T01:40:23.981693Z",
     "shell.execute_reply": "2021-02-01T01:40:23.980580Z",
     "shell.execute_reply.started": "2021-02-01T01:40:23.971513Z"
    }
   },
   "outputs": [
    {
     "name": "stdout",
     "output_type": "stream",
     "text": [
      "Average sessions per user 1.2499\n"
     ]
    },
    {
     "data": {
      "text/plain": [
       "1    0.7987\n",
       "2    0.1627\n",
       "3    0.0305\n",
       "4    0.0063\n",
       "5    0.0017\n",
       "6    0.0001\n",
       "Name: spu, dtype: float64"
      ]
     },
     "execution_count": 4,
     "metadata": {},
     "output_type": "execute_result"
    }
   ],
   "source": [
    "num_users = 10000\n",
    "sessions_per_user = np.random.geometric(0.8, size=num_users)\n",
    "spu = pd.DataFrame({'spu': sessions_per_user})\n",
    "print('Average sessions per user', np.sum(sessions_per_user)/num_users)\n",
    "spu.spu.value_counts() / num_users"
   ]
  },
  {
   "cell_type": "code",
   "execution_count": 5,
   "metadata": {
    "execution": {
     "iopub.execute_input": "2021-02-01T01:40:23.983900Z",
     "iopub.status.busy": "2021-02-01T01:40:23.983493Z",
     "iopub.status.idle": "2021-02-01T01:40:24.320931Z",
     "shell.execute_reply": "2021-02-01T01:40:24.320304Z",
     "shell.execute_reply.started": "2021-02-01T01:40:23.983846Z"
    }
   },
   "outputs": [
    {
     "data": {
      "image/png": "[encoded data removed]",
      "text/plain": [
       "<Figure size 432x288 with 1 Axes>"
      ]
     },
     "metadata": {
      "needs_background": "light"
     },
     "output_type": "display_data"
    }
   ],
   "source": [
    "num_users = 30000\n",
    "\n",
    "sessions_per_user = np.random.geometric(0.1, size=num_users)\n",
    "\n",
    "# each user has some baseline conversion rate, we'll say ~2%\n",
    "# baseline_conversion_rates = np.random.beta(2, 98, size=num_users);\n",
    "baseline_conversion_rates = np.random.beta(20, 980, size=num_users);\n",
    "\n",
    "# each user will experience a conversion uplift of 10% relative, so 0.2% or 20bps (absolute)\n",
    "# larger sample size to emphasize confidence in 20 bps effect size for the sake of demonstration\n",
    "conversion_uplifts = np.random.beta(200, 99800, size=num_users);\n",
    "\n",
    "\n",
    "# plt.hist(conversion_uplifts, bins=100);\n",
    "# 0 for control, 1 for treatment\n",
    "# assignments = np.random.randint(0, 2, size=num_users);\n",
    "# print(sessions_per_user)\n",
    "plt.hist(sessions_per_user, bins=100, range=(0, 25), density=True);\n",
    "plt.title('Sessions per user distribution');\n",
    "frame1 = plt.gca();\n",
    "# frame1.axes.xaxis.set_ticklabels([])\n",
    "# frame1.axes.yaxis.set_ticklabels([]);\n",
    "frame1.axes.get_yaxis().set_visible(False);\n",
    "\n",
    "\n",
    "# plt.hist(sessions_per_user, bins=100);\n",
    "\n",
    "# plt.hist(conversion_uplifts*100*100, bins=100, label='Conversion uplift bps');"
   ]
  },
  {
   "cell_type": "markdown",
   "metadata": {},
   "source": [
    "# Session conversion dependent on SPU"
   ]
  },
  {
   "cell_type": "code",
   "execution_count": 5,
   "metadata": {
    "execution": {
     "iopub.execute_input": "2021-02-01T00:17:11.371349Z",
     "iopub.status.busy": "2021-02-01T00:17:11.371145Z",
     "iopub.status.idle": "2021-02-01T00:17:11.380305Z",
     "shell.execute_reply": "2021-02-01T00:17:11.379771Z",
     "shell.execute_reply.started": "2021-02-01T00:17:11.371324Z"
    }
   },
   "outputs": [],
   "source": [
    "sessions_per_user = np.random.geometric(0.1, size=num_users)\n",
    "\n",
    "rates = 0.1*2/3 + 0.1*1/3*np.exp(-0.4*sessions_per_user)\n",
    "a = rates*1000\n",
    "b = 1000 - rates*1000\n",
    "baseline_conversion_rates = np.random.beta(a, b, size=num_users);"
   ]
  },
  {
   "cell_type": "code",
   "execution_count": 6,
   "metadata": {
    "execution": {
     "iopub.execute_input": "2021-02-01T00:17:13.154484Z",
     "iopub.status.busy": "2021-02-01T00:17:13.154229Z",
     "iopub.status.idle": "2021-02-01T00:17:13.296589Z",
     "shell.execute_reply": "2021-02-01T00:17:13.295947Z",
     "shell.execute_reply.started": "2021-02-01T00:17:13.154453Z"
    }
   },
   "outputs": [
    {
     "data": {
      "image/png": "[encoded data removed]",
      "text/plain": [
       "<Figure size 432x288 with 1 Axes>"
      ]
     },
     "metadata": {
      "needs_background": "light"
     },
     "output_type": "display_data"
    }
   ],
   "source": [
    "df = pd.DataFrame({'spu': sessions_per_user, 'cv': baseline_conversion_rates*100})\n",
    "gdf = df.groupby('spu').cv.mean().reset_index(name='mean_cv')\n",
    "plt.plot(gdf[gdf.spu <= 15].spu, gdf[gdf.spu <= 15].mean_cv);"
   ]
  },
  {
   "cell_type": "code",
   "execution_count": 7,
   "metadata": {
    "execution": {
     "iopub.execute_input": "2021-02-01T00:17:19.807282Z",
     "iopub.status.busy": "2021-02-01T00:17:19.807029Z",
     "iopub.status.idle": "2021-02-01T00:17:19.902518Z",
     "shell.execute_reply": "2021-02-01T00:17:19.901814Z",
     "shell.execute_reply.started": "2021-02-01T00:17:19.807251Z"
    }
   },
   "outputs": [],
   "source": [
    "num_users = 500000\n",
    "\n",
    "sessions_per_user = np.random.geometric(0.5, size=num_users)\n",
    "avg_conversion_rate = 0.1\n",
    "rates = avg_conversion_rate*2/3 + avg_conversion_rate*1/3*np.exp(-0.4*sessions_per_user)\n",
    "a = rates*1000\n",
    "b = 1000 - rates*1000\n",
    "conversion_rates = np.random.beta(a, b, size=num_users);"
   ]
  },
  {
   "cell_type": "code",
   "execution_count": 8,
   "metadata": {
    "execution": {
     "iopub.execute_input": "2021-02-01T00:17:20.120196Z",
     "iopub.status.busy": "2021-02-01T00:17:20.119916Z",
     "iopub.status.idle": "2021-02-01T00:17:43.922740Z",
     "shell.execute_reply": "2021-02-01T00:17:43.922065Z",
     "shell.execute_reply.started": "2021-02-01T00:17:20.120143Z"
    }
   },
   "outputs": [],
   "source": [
    "data = {\n",
    "    'user': [],\n",
    "    'session_id': [],\n",
    "    'session_converted': []\n",
    "}\n",
    "\n",
    "for user_id, num_sessions in enumerate(sessions_per_user):\n",
    "    for session_id in range(1, num_sessions+1):\n",
    "        conversion_rate = conversion_rates[user_id]\n",
    "        session_converted = np.random.choice([0, 1], p=[1-conversion_rate, conversion_rate])\n",
    "        data['user'].append(user_id)\n",
    "        data['session_id'].append(f\"{user_id}-{session_id}\")\n",
    "        data['session_converted'].append(session_converted)"
   ]
  },
  {
   "cell_type": "code",
   "execution_count": 9,
   "metadata": {
    "execution": {
     "iopub.execute_input": "2021-02-01T00:17:43.924405Z",
     "iopub.status.busy": "2021-02-01T00:17:43.923980Z",
     "iopub.status.idle": "2021-02-01T00:17:44.503260Z",
     "shell.execute_reply": "2021-02-01T00:17:44.502411Z",
     "shell.execute_reply.started": "2021-02-01T00:17:43.924361Z"
    }
   },
   "outputs": [],
   "source": [
    "df = pd.DataFrame(data)"
   ]
  },
  {
   "cell_type": "code",
   "execution_count": 13,
   "metadata": {
    "execution": {
     "iopub.execute_input": "2021-02-01T00:19:02.768039Z",
     "iopub.status.busy": "2021-02-01T00:19:02.767579Z",
     "iopub.status.idle": "2021-02-01T00:19:02.908152Z",
     "shell.execute_reply": "2021-02-01T00:19:02.907323Z",
     "shell.execute_reply.started": "2021-02-01T00:19:02.767994Z"
    }
   },
   "outputs": [],
   "source": [
    "udf = (\n",
    "    df\n",
    "    .groupby('user')\n",
    "    .agg(\n",
    "        total_sessions=('session_converted', 'count'),\n",
    "        num_converted=('session_converted', 'sum'),\n",
    "    ).reset_index()\n",
    ")"
   ]
  },
  {
   "cell_type": "code",
   "execution_count": 10,
   "metadata": {
    "execution": {
     "iopub.execute_input": "2021-02-01T00:17:56.784533Z",
     "iopub.status.busy": "2021-02-01T00:17:56.784268Z",
     "iopub.status.idle": "2021-02-01T00:17:58.101571Z",
     "shell.execute_reply": "2021-02-01T00:17:58.100959Z",
     "shell.execute_reply.started": "2021-02-01T00:17:56.784504Z"
    }
   },
   "outputs": [
    {
     "data": {
      "text/html": [
       "<table style=\"border: 2px solid white;\">\n",
       "<tr>\n",
       "<td style=\"vertical-align: top; border: 0px solid white\">\n",
       "<h3 style=\"text-align: left;\">Client</h3>\n",
       "<ul style=\"text-align: left; list-style: none; margin: 0; padding: 0;\">\n",
       "  <li><b>Scheduler: </b>tcp://127.0.0.1:57092</li>\n",
       "  <li><b>Dashboard: </b><a href='http://127.0.0.1:8787/status' target='_blank'>http://127.0.0.1:8787/status</a></li>\n",
       "</ul>\n",
       "</td>\n",
       "<td style=\"vertical-align: top; border: 0px solid white\">\n",
       "<h3 style=\"text-align: left;\">Cluster</h3>\n",
       "<ul style=\"text-align: left; list-style:none; margin: 0; padding: 0;\">\n",
       "  <li><b>Workers: </b>12</li>\n",
       "  <li><b>Cores: </b>12</li>\n",
       "  <li><b>Memory: </b>34.36 GB</li>\n",
       "</ul>\n",
       "</td>\n",
       "</tr>\n",
       "</table>"
      ],
      "text/plain": [
       "<Client: 'tcp://127.0.0.1:57092' processes=12 threads=12, memory=34.36 GB>"
      ]
     },
     "execution_count": 10,
     "metadata": {},
     "output_type": "execute_result"
    }
   ],
   "source": [
    "cluster = LocalCluster(\n",
    "    n_workers=12, \n",
    "    threads_per_worker=1, \n",
    "    processes=True, \n",
    "    silence_logs=logging.ERROR\n",
    ")\n",
    "client = Client(cluster)\n",
    "client\n",
    "\n",
    "# client.shutdown()\n",
    "# client.close()"
   ]
  },
  {
   "cell_type": "code",
   "execution_count": 15,
   "metadata": {
    "execution": {
     "iopub.execute_input": "2021-02-01T00:19:11.676897Z",
     "iopub.status.busy": "2021-02-01T00:19:11.676420Z",
     "iopub.status.idle": "2021-02-01T00:20:22.623811Z",
     "shell.execute_reply": "2021-02-01T00:20:22.622770Z",
     "shell.execute_reply.started": "2021-02-01T00:19:11.676866Z"
    }
   },
   "outputs": [],
   "source": [
    "# 1) randomly select 50,000 users, calculate session conversion rate\n",
    "# 2) repeat 10,000 times\n",
    "\n",
    "def simulate_user_randomization(scattered_df):\n",
    "    sampled_users = scattered_df.sample(50000, replace=False)\n",
    "    total_sessions = sampled_users['total_sessions'].sum()\n",
    "    total_converted = sampled_users['num_converted'].sum()\n",
    "    return {\n",
    "        'total_sessions': total_sessions, \n",
    "        'session_conversion_rate': total_converted/total_sessions\n",
    "    }\n",
    "\n",
    "scattered_df = client.scatter(udf)\n",
    "delayed_user_randomization_results = []\n",
    "for x in range(0, 10000):\n",
    "    result = dask.delayed(simulate_user_randomization)(scattered_df)\n",
    "    delayed_user_randomization_results.append(result)\n",
    "\n",
    "user_randomization_results = dask.compute(*delayed_user_randomization_results)"
   ]
  },
  {
   "cell_type": "code",
   "execution_count": 16,
   "metadata": {
    "execution": {
     "iopub.execute_input": "2021-02-01T00:20:22.626228Z",
     "iopub.status.busy": "2021-02-01T00:20:22.625613Z",
     "iopub.status.idle": "2021-02-01T00:20:22.643688Z",
     "shell.execute_reply": "2021-02-01T00:20:22.642041Z",
     "shell.execute_reply.started": "2021-02-01T00:20:22.626188Z"
    }
   },
   "outputs": [
    {
     "name": "stdout",
     "output_type": "stream",
     "text": [
      "0.07942715604049272\n",
      "100210.4831\n"
     ]
    }
   ],
   "source": [
    "print(np.mean([x['session_conversion_rate'] for x in user_randomization_results]))\n",
    "print(np.mean([x['total_sessions'] for x in user_randomization_results]))"
   ]
  },
  {
   "cell_type": "code",
   "execution_count": 20,
   "metadata": {
    "execution": {
     "iopub.execute_input": "2021-02-01T00:22:26.440455Z",
     "iopub.status.busy": "2021-02-01T00:22:26.440047Z",
     "iopub.status.idle": "2021-02-01T00:37:47.320945Z",
     "shell.execute_reply": "2021-02-01T00:37:47.303261Z",
     "shell.execute_reply.started": "2021-02-01T00:22:26.440406Z"
    }
   },
   "outputs": [],
   "source": [
    "# see how many sessions you got, on average, in :point-up:\n",
    "# 1) randomly select X sessions, calculate session conversion rate\n",
    "# 2) repeat 10,000 times\n",
    "avg_num_sessions = int(np.mean([x['total_sessions'] for x in user_randomization_results]))\n",
    "\n",
    "\n",
    "def simulate_session_randomization(scattered_df):\n",
    "    sampled_sessions = scattered_df.sample(avg_num_sessions, replace=False)\n",
    "    total_sessions = sampled_sessions['session_converted'].count()\n",
    "    total_converted = sampled_sessions['session_converted'].sum()    \n",
    "    return {\n",
    "        'total_sessions': total_sessions, \n",
    "        'session_conversion_rate': total_converted/total_sessions\n",
    "    }\n",
    "    \n",
    "scattered_df = client.scatter(df)\n",
    "delayed_session_randomization_results = []\n",
    "for x in range(0, 10000):\n",
    "    result = dask.delayed(simulate_session_randomization)(scattered_df)\n",
    "    delayed_session_randomization_results.append(result)\n",
    "\n",
    "session_randomization_results = dask.compute(*delayed_session_randomization_results)"
   ]
  },
  {
   "cell_type": "code",
   "execution_count": 21,
   "metadata": {
    "execution": {
     "iopub.execute_input": "2021-02-01T00:37:47.373853Z",
     "iopub.status.busy": "2021-02-01T00:37:47.367217Z",
     "iopub.status.idle": "2021-02-01T00:37:47.499451Z",
     "shell.execute_reply": "2021-02-01T00:37:47.484777Z",
     "shell.execute_reply.started": "2021-02-01T00:37:47.373809Z"
    }
   },
   "outputs": [
    {
     "name": "stdout",
     "output_type": "stream",
     "text": [
      "0.07942780760403155\n",
      "100210.0\n"
     ]
    }
   ],
   "source": [
    "print(np.mean([x['session_conversion_rate'] for x in session_randomization_results]))\n",
    "print(np.mean([x['total_sessions'] for x in session_randomization_results]))"
   ]
  },
  {
   "cell_type": "code",
   "execution_count": 26,
   "metadata": {
    "execution": {
     "iopub.execute_input": "2021-02-01T00:40:27.988549Z",
     "iopub.status.busy": "2021-02-01T00:40:27.982192Z",
     "iopub.status.idle": "2021-02-01T00:40:35.946433Z",
     "shell.execute_reply": "2021-02-01T00:40:35.934041Z",
     "shell.execute_reply.started": "2021-02-01T00:40:27.988503Z"
    }
   },
   "outputs": [
    {
     "data": {
      "image/png": "[encoded data removed]",
      "text/plain": [
       "<Figure size 432x288 with 1 Axes>"
      ]
     },
     "metadata": {
      "needs_background": "light"
     },
     "output_type": "display_data"
    }
   ],
   "source": [
    "sl = [x['session_conversion_rate'] for x in session_randomization_results]\n",
    "ul = [x['session_conversion_rate'] for x in user_randomization_results]\n",
    "\n",
    "plt.title('Session Conversion Rate')\n",
    "plt.hist(sl, bins=100, density=True, alpha=0.6, color='b', label='Session Randomization');\n",
    "plt.hist(ul, bins=100, density=True, alpha=0.6, color='r', label='User Randomization');\n",
    "plt.legend();"
   ]
  },
  {
   "cell_type": "markdown",
   "metadata": {},
   "source": [
    "# Simulating Session Level Randomization"
   ]
  },
  {
   "cell_type": "code",
   "execution_count": 71,
   "metadata": {
    "execution": {
     "iopub.execute_input": "2021-01-31T15:26:47.076653Z",
     "iopub.status.busy": "2021-01-31T15:26:47.076376Z",
     "iopub.status.idle": "2021-01-31T15:26:47.734037Z",
     "shell.execute_reply": "2021-01-31T15:26:47.733476Z",
     "shell.execute_reply.started": "2021-01-31T15:26:47.076621Z"
    }
   },
   "outputs": [],
   "source": [
    "num_users = 10000\n",
    "\n",
    "sessions_per_user = np.random.geometric(0.5, size=num_users)\n",
    "\n",
    "# each user has some baseline conversion rate, we'll say ~25%\n",
    "baseline_conversion_rates = np.random.beta(250, 750, size=num_users);\n",
    "\n",
    "# +5% boost  (20% relative)\n",
    "conversion_uplifts = np.random.beta(50, 950, size=num_users);\n",
    "\n",
    "\n",
    "# session level randomization\n",
    "data = {\n",
    "    'user': [],\n",
    "    'session_id': [],\n",
    "    'assignment': [],\n",
    "    'session_converted': []\n",
    "}\n",
    "\n",
    "i = 0\n",
    "for user_id, num_sessions in enumerate(sessions_per_user):\n",
    "    for session_id in range(1, num_sessions+1):\n",
    "        assignment = np.random.randint(0, 2)\n",
    "#         assignment = assignments[i]\n",
    "        new_conversion_rate = baseline_conversion_rates[user_id] + assignment*conversion_uplifts[user_id]\n",
    "        session_converted = np.random.choice([0, 1], p=[1-new_conversion_rate, new_conversion_rate])\n",
    "        data['user'].append(user_id)\n",
    "        data['session_id'].append(f\"{user_id}-{session_id}\")\n",
    "        data['assignment'].append(assignment)\n",
    "        data['session_converted'].append(session_converted)\n",
    "        i += 1"
   ]
  },
  {
   "cell_type": "code",
   "execution_count": 72,
   "metadata": {
    "execution": {
     "iopub.execute_input": "2021-01-31T15:26:47.735301Z",
     "iopub.status.busy": "2021-01-31T15:26:47.735133Z",
     "iopub.status.idle": "2021-01-31T15:26:47.765153Z",
     "shell.execute_reply": "2021-01-31T15:26:47.764416Z",
     "shell.execute_reply.started": "2021-01-31T15:26:47.735280Z"
    }
   },
   "outputs": [
    {
     "name": "stdout",
     "output_type": "stream",
     "text": [
      "Average sessions per user: 2.005\n"
     ]
    },
    {
     "data": {
      "text/html": [
       "<div>\n",
       "<style scoped>\n",
       "    .dataframe tbody tr th:only-of-type {\n",
       "        vertical-align: middle;\n",
       "    }\n",
       "\n",
       "    .dataframe tbody tr th {\n",
       "        vertical-align: top;\n",
       "    }\n",
       "\n",
       "    .dataframe thead th {\n",
       "        text-align: right;\n",
       "    }\n",
       "</style>\n",
       "<table border=\"1\" class=\"dataframe\">\n",
       "  <thead>\n",
       "    <tr style=\"text-align: right;\">\n",
       "      <th></th>\n",
       "      <th>user</th>\n",
       "      <th>session_id</th>\n",
       "      <th>assignment</th>\n",
       "      <th>session_converted</th>\n",
       "    </tr>\n",
       "  </thead>\n",
       "  <tbody>\n",
       "    <tr>\n",
       "      <th>0</th>\n",
       "      <td>0</td>\n",
       "      <td>0-1</td>\n",
       "      <td>0</td>\n",
       "      <td>0</td>\n",
       "    </tr>\n",
       "    <tr>\n",
       "      <th>1</th>\n",
       "      <td>0</td>\n",
       "      <td>0-2</td>\n",
       "      <td>0</td>\n",
       "      <td>0</td>\n",
       "    </tr>\n",
       "    <tr>\n",
       "      <th>2</th>\n",
       "      <td>1</td>\n",
       "      <td>1-1</td>\n",
       "      <td>0</td>\n",
       "      <td>1</td>\n",
       "    </tr>\n",
       "    <tr>\n",
       "      <th>3</th>\n",
       "      <td>1</td>\n",
       "      <td>1-2</td>\n",
       "      <td>0</td>\n",
       "      <td>0</td>\n",
       "    </tr>\n",
       "    <tr>\n",
       "      <th>4</th>\n",
       "      <td>2</td>\n",
       "      <td>2-1</td>\n",
       "      <td>0</td>\n",
       "      <td>0</td>\n",
       "    </tr>\n",
       "    <tr>\n",
       "      <th>...</th>\n",
       "      <td>...</td>\n",
       "      <td>...</td>\n",
       "      <td>...</td>\n",
       "      <td>...</td>\n",
       "    </tr>\n",
       "    <tr>\n",
       "      <th>20043</th>\n",
       "      <td>9998</td>\n",
       "      <td>9998-1</td>\n",
       "      <td>0</td>\n",
       "      <td>0</td>\n",
       "    </tr>\n",
       "    <tr>\n",
       "      <th>20044</th>\n",
       "      <td>9998</td>\n",
       "      <td>9998-2</td>\n",
       "      <td>0</td>\n",
       "      <td>0</td>\n",
       "    </tr>\n",
       "    <tr>\n",
       "      <th>20045</th>\n",
       "      <td>9998</td>\n",
       "      <td>9998-3</td>\n",
       "      <td>0</td>\n",
       "      <td>0</td>\n",
       "    </tr>\n",
       "    <tr>\n",
       "      <th>20046</th>\n",
       "      <td>9999</td>\n",
       "      <td>9999-1</td>\n",
       "      <td>0</td>\n",
       "      <td>0</td>\n",
       "    </tr>\n",
       "    <tr>\n",
       "      <th>20047</th>\n",
       "      <td>9999</td>\n",
       "      <td>9999-2</td>\n",
       "      <td>0</td>\n",
       "      <td>0</td>\n",
       "    </tr>\n",
       "  </tbody>\n",
       "</table>\n",
       "<p>20048 rows × 4 columns</p>\n",
       "</div>"
      ],
      "text/plain": [
       "       user session_id  assignment  session_converted\n",
       "0         0        0-1           0                  0\n",
       "1         0        0-2           0                  0\n",
       "2         1        1-1           0                  1\n",
       "3         1        1-2           0                  0\n",
       "4         2        2-1           0                  0\n",
       "...     ...        ...         ...                ...\n",
       "20043  9998     9998-1           0                  0\n",
       "20044  9998     9998-2           0                  0\n",
       "20045  9998     9998-3           0                  0\n",
       "20046  9999     9999-1           0                  0\n",
       "20047  9999     9999-2           0                  0\n",
       "\n",
       "[20048 rows x 4 columns]"
      ]
     },
     "execution_count": 72,
     "metadata": {},
     "output_type": "execute_result"
    }
   ],
   "source": [
    "df = pd.DataFrame(data)\n",
    "print (f\"Average sessions per user: {df.shape[0] / len(df.user.unique()):0.3f}\")\n",
    "df"
   ]
  },
  {
   "cell_type": "code",
   "execution_count": 73,
   "metadata": {
    "execution": {
     "iopub.execute_input": "2021-01-31T15:26:48.263598Z",
     "iopub.status.busy": "2021-01-31T15:26:48.263345Z",
     "iopub.status.idle": "2021-01-31T15:26:49.056448Z",
     "shell.execute_reply": "2021-01-31T15:26:49.055927Z",
     "shell.execute_reply.started": "2021-01-31T15:26:48.263570Z"
    }
   },
   "outputs": [
    {
     "data": {
      "image/png": "[encoded data removed]",
      "text/plain": [
       "<Figure size 1440x432 with 2 Axes>"
      ]
     },
     "metadata": {
      "needs_background": "light"
     },
     "output_type": "display_data"
    }
   ],
   "source": [
    "num_samples = 50000\n",
    "\n",
    "control_converted = df[df.assignment==0].session_converted.sum()\n",
    "control_total = df[df.assignment==0].session_converted.count()\n",
    "control_samples = np.random.beta(control_converted, control_total - control_converted, size=num_samples)\n",
    "\n",
    "\n",
    "test_converted = df[df.assignment==1].session_converted.sum()\n",
    "test_total = df[df.assignment==1].session_converted.count()\n",
    "test_samples = np.random.beta(test_converted, test_total - test_converted, size=num_samples)\n",
    "\n",
    "\n",
    "fig, axs = plt.subplots(1, 2, figsize=(20, 6));\n",
    "axs[0].hist(control_samples, density=True, bins=100, alpha=0.7, color='b', label='Control');\n",
    "axs[0].hist(test_samples, density=True, bins=100, alpha=0.7, color='r', label='Treatment');\n",
    "axs[0].xaxis.set_major_formatter(ticker.PercentFormatter(xmax=1));\n",
    "axs[0].set_title('Session Conversion Rate');\n",
    "axs[0].get_yaxis().set_visible(False);\n",
    "axs[0].legend();\n",
    "\n",
    "\n",
    "diffs = test_samples - control_samples\n",
    "p10_diff = np.percentile(diffs, 10)\n",
    "p90_diff = np.percentile(diffs, 90)\n",
    "mean_diff = np.mean(diffs)\n",
    "axs[1].hist(diffs, density=True, bins=100, alpha=0.7, color='b');\n",
    "axs[1].axvline(p10_diff, color='r', linestyle='dashed', label=f'10th Percentile ({p10_diff*100*100:0.0f} bps)');\n",
    "axs[1].axvline(mean_diff, color='k', linestyle='dashed', label=f'Mean ({mean_diff*100*100:0.0f} bps)');\n",
    "axs[1].axvline(p90_diff, color='g', linestyle='dashed', label=f'90th Percentile ({p90_diff*100*100:0.0f} bps)');\n",
    "axs[1].xaxis.set_major_formatter(ticker.PercentFormatter(xmax=1));\n",
    "axs[1].set_title('Difference in Session Conversion Rate');\n",
    "axs[1].get_yaxis().set_visible(False);\n",
    "axs[1].legend();"
   ]
  },
  {
   "cell_type": "code",
   "execution_count": 74,
   "metadata": {
    "execution": {
     "iopub.execute_input": "2021-01-31T15:26:49.680848Z",
     "iopub.status.busy": "2021-01-31T15:26:49.680590Z",
     "iopub.status.idle": "2021-01-31T15:26:49.688089Z",
     "shell.execute_reply": "2021-01-31T15:26:49.687363Z",
     "shell.execute_reply.started": "2021-01-31T15:26:49.680818Z"
    }
   },
   "outputs": [
    {
     "data": {
      "text/plain": [
       "assignment\n",
       "0    24.847148\n",
       "1    29.798431\n",
       "Name: session_converted, dtype: float64"
      ]
     },
     "execution_count": 74,
     "metadata": {},
     "output_type": "execute_result"
    }
   ],
   "source": [
    "df.groupby('assignment').session_converted.mean()*100"
   ]
  },
  {
   "cell_type": "markdown",
   "metadata": {},
   "source": [
    "# Simulations with Dask"
   ]
  },
  {
   "cell_type": "code",
   "execution_count": 94,
   "metadata": {
    "execution": {
     "iopub.execute_input": "2021-01-31T19:31:39.611024Z",
     "iopub.status.busy": "2021-01-31T19:31:39.605456Z",
     "iopub.status.idle": "2021-01-31T19:31:54.284086Z",
     "shell.execute_reply": "2021-01-31T19:31:54.225300Z",
     "shell.execute_reply.started": "2021-01-31T19:31:39.610986Z"
    }
   },
   "outputs": [],
   "source": [
    "cluster = LocalCluster(\n",
    "    n_workers=12, \n",
    "    threads_per_worker=1, \n",
    "    processes=True, \n",
    "    silence_logs=logging.ERROR\n",
    ")\n",
    "client = Client(cluster)\n",
    "client\n",
    "\n",
    "# client.shutdown()\n",
    "# client.close()"
   ]
  },
  {
   "cell_type": "code",
   "execution_count": 78,
   "metadata": {
    "execution": {
     "iopub.execute_input": "2021-01-31T15:27:51.480495Z",
     "iopub.status.busy": "2021-01-31T15:27:51.480054Z",
     "iopub.status.idle": "2021-01-31T15:27:51.499459Z",
     "shell.execute_reply": "2021-01-31T15:27:51.498503Z",
     "shell.execute_reply.started": "2021-01-31T15:27:51.480441Z"
    }
   },
   "outputs": [],
   "source": [
    "def calculate_metrics(data, metric):\n",
    "\n",
    "    df = pd.DataFrame(data)\n",
    "    num_samples = 50000\n",
    "    \n",
    "    if metric == 'user':\n",
    "        df = df.groupby(['user', 'assignment']).agg(converted=('session_converted', 'max')).reset_index()\n",
    "    elif metric == 'session':\n",
    "        df['converted'] = df['session_converted']\n",
    "    else:\n",
    "        raise NotImplementedError(\"metric must be 'user' or 'session'\")    \n",
    "\n",
    "    control_converted = df[df.assignment==0].converted.sum()\n",
    "    control_total = df[df.assignment==0].converted.count()\n",
    "    control_samples = np.random.beta(control_converted, control_total - control_converted, size=num_samples)\n",
    "\n",
    "    test_converted = df[df.assignment==1].converted.sum()\n",
    "    test_total = df[df.assignment==1].converted.count()\n",
    "    test_samples = np.random.beta(test_converted, test_total - test_converted, size=num_samples)\n",
    "\n",
    "    # how often does test convert higher than the control?\n",
    "    test_gt_control = (test_samples > control_samples).mean()\n",
    "    # in what range do we think the true conversion rates lie?\n",
    "    test_interval = [np.percentile(test_samples, 10), np.percentile(test_samples, 90)]\n",
    "    control_interval = [np.percentile(control_samples, 10), np.percentile(control_samples, 90)]\n",
    "    \n",
    "    # how much better is test than control?\n",
    "    diffs = test_samples - control_samples\n",
    "    diff_interval = [np.percentile(diffs, 10), np.percentile(diffs, 90)]\n",
    "    mean_diff = np.mean(diffs)\n",
    "    \n",
    "    return {\n",
    "        'test_gt_control': test_gt_control,\n",
    "        'test_interval': test_interval,\n",
    "        'control_interval': control_interval,\n",
    "        'diff_interval': diff_interval,\n",
    "        'mean_diff': mean_diff\n",
    "        \n",
    "    }\n",
    "        \n",
    "def run_simulation(\n",
    "        num_users=30000, \n",
    "        baseline_conversion=0.1, \n",
    "        relative_uplift=0.1, \n",
    "        is_aa_test=False,\n",
    "        randomization_unit='session',\n",
    "        persist_treatment_effect=False,\n",
    "        geometric_p=0.5,\n",
    "    ):\n",
    "\n",
    "    if randomization_unit not in ['session', 'user']:\n",
    "        raise NotImplementedError(\"randomization_unit must be 'session' or 'user'\")\n",
    "    \n",
    "    # sessions per user\n",
    "    sessions_per_user = np.random.geometric(geometric_p, size=num_users)\n",
    "\n",
    "    # each user has some baseline conversion rate\n",
    "    a = baseline_conversion*1000\n",
    "    b = 1000 - a\n",
    "    baseline_conversion_rates = np.random.beta(a, b, size=num_users);\n",
    "\n",
    "    if is_aa_test:\n",
    "        conversion_uplifts = np.zeros(shape=num_users)\n",
    "    else:\n",
    "        # each user will experience a conversion uplift of 10% relative, so 0.2% or 20bps (absolute)\n",
    "        # larger sample size to emphasize confidence in 20 bps effect size for the sake of demonstration\n",
    "        a = baseline_conversion*relative_uplift*10000\n",
    "        b = 10000 - a\n",
    "        conversion_uplifts = np.random.beta(a, b, size=num_users);\n",
    "\n",
    "    # session level randomization\n",
    "    data = {\n",
    "        'user': [],\n",
    "        'session_id': [],\n",
    "        'assignment': [],\n",
    "        'session_converted': []\n",
    "    }\n",
    "\n",
    "    conversion_rates = baseline_conversion_rates.copy()\n",
    "\n",
    "    for user_id, num_sessions in enumerate(sessions_per_user):\n",
    "        if randomization_unit == 'user':\n",
    "            assignment = np.random.randint(0, 2)\n",
    "            \n",
    "        for session_id in range(1, num_sessions+1):\n",
    "            if randomization_unit == 'session':\n",
    "                assignment = np.random.randint(0, 2)\n",
    "            \n",
    "            if assignment == 1 and persist_treatment_effect:\n",
    "                # increase user conversion rate permanently\n",
    "                conversion_rates[user_id] = baseline_conversion_rates[user_id] + conversion_uplifts[user_id]\n",
    "                user_conversion_rate = conversion_rates[user_id]\n",
    "            elif assignment == 1:\n",
    "                # temporarily increase conversion rate for given session\n",
    "                user_conversion_rate = baseline_conversion_rates[user_id] + conversion_uplifts[user_id]\n",
    "            else:\n",
    "                user_conversion_rate = conversion_rates[user_id]\n",
    "            \n",
    "            session_converted = np.random.choice([0, 1], p=[1-user_conversion_rate, user_conversion_rate])\n",
    "            data['user'].append(user_id)\n",
    "            data['session_id'].append(f\"{user_id}-{session_id}\")\n",
    "            data['assignment'].append(assignment)\n",
    "            data['session_converted'].append(session_converted)\n",
    "\n",
    "    # now do bayesian analysis with our observered results\n",
    "    return {\n",
    "        'session_conversion': calculate_metrics(data, metric='session'),\n",
    "        'user_conversion': calculate_metrics(data, metric='user'),\n",
    "    }"
   ]
  },
  {
   "cell_type": "code",
   "execution_count": 79,
   "metadata": {
    "execution": {
     "iopub.execute_input": "2021-01-31T15:27:53.403612Z",
     "iopub.status.busy": "2021-01-31T15:27:53.403352Z",
     "iopub.status.idle": "2021-01-31T15:27:55.388057Z",
     "shell.execute_reply": "2021-01-31T15:27:55.387262Z",
     "shell.execute_reply.started": "2021-01-31T15:27:53.403582Z"
    }
   },
   "outputs": [
    {
     "data": {
      "text/plain": [
       "{'session_conversion': {'test_gt_control': 0.99944,\n",
       "  'test_interval': [0.10680756291951164, 0.11144704382202775],\n",
       "  'control_interval': [0.09884384282709588, 0.1033109968878478],\n",
       "  'diff_interval': [0.004854577409887412, 0.011270028913729326],\n",
       "  'mean_diff': 0.008041107965523842},\n",
       " 'user_conversion': {'test_gt_control': 0.99666,\n",
       "  'test_interval': [0.19227095478449585, 0.2005945456082883],\n",
       "  'control_interval': [0.18004726740753635, 0.18818681152331757],\n",
       "  'diff_interval': [0.006514831090339713, 0.018151534331265828],\n",
       "  'mean_diff': 0.012328731432653556}}"
      ]
     },
     "execution_count": 79,
     "metadata": {},
     "output_type": "execute_result"
    }
   ],
   "source": [
    "run_simulation(randomization_unit='user')"
   ]
  },
  {
   "cell_type": "code",
   "execution_count": 54,
   "metadata": {
    "execution": {
     "iopub.execute_input": "2021-01-24T21:40:04.382367Z",
     "iopub.status.busy": "2021-01-24T21:40:04.381876Z",
     "iopub.status.idle": "2021-01-24T21:40:05.148853Z",
     "shell.execute_reply": "2021-01-24T21:40:05.145370Z",
     "shell.execute_reply.started": "2021-01-24T21:40:04.382337Z"
    }
   },
   "outputs": [],
   "source": [
    "for dr in delayed_results:\n",
    "    client.cancel(dr)"
   ]
  },
  {
   "cell_type": "markdown",
   "metadata": {
    "execution": {
     "iopub.execute_input": "2021-01-24T21:35:54.095657Z",
     "iopub.status.busy": "2021-01-24T21:35:54.095197Z",
     "iopub.status.idle": "2021-01-24T21:38:36.389203Z",
     "shell.execute_reply": "2021-01-24T21:38:36.386747Z",
     "shell.execute_reply.started": "2021-01-24T21:35:54.095622Z"
    }
   },
   "source": [
    "## A/B Test - Session Level Randomization"
   ]
  },
  {
   "cell_type": "code",
   "execution_count": 93,
   "metadata": {
    "execution": {
     "iopub.execute_input": "2021-01-31T19:19:18.942604Z",
     "iopub.status.busy": "2021-01-31T19:19:18.929945Z",
     "iopub.status.idle": "2021-01-31T19:20:35.868713Z",
     "shell.execute_reply": "2021-01-31T19:20:35.861340Z",
     "shell.execute_reply.started": "2021-01-31T19:19:18.942562Z"
    }
   },
   "outputs": [
    {
     "name": "stdout",
     "output_type": "stream",
     "text": [
      "Detected positive effect 100.0% of the time\n",
      "Average effect size detected: 201 bps\n",
      "\n"
     ]
    }
   ],
   "source": [
    "delayed_results = []\n",
    "\n",
    "NUM_EXPERIMENTS = 250\n",
    "for iteration in range(0, NUM_EXPERIMENTS):\n",
    "    result = dask.delayed(run_simulation)(\n",
    "        num_users=10000, \n",
    "        baseline_conversion=0.1, \n",
    "        relative_uplift=0.2, \n",
    "        is_aa_test=False,\n",
    "        randomization_unit='session',\n",
    "        persist_treatment_effect=False,\n",
    "        geometric_p=0.5,\n",
    "    )\n",
    "    delayed_results.append(result)\n",
    "\n",
    "results = dask.compute(*delayed_results)\n",
    "\n",
    "num_positive_effects_detected = np.sum([res['session_conversion']['test_gt_control'] > 0.95 for res in results])\n",
    "avg_effect_size = np.mean([res['session_conversion']['mean_diff'] for res in results if res['session_conversion']['test_gt_control'] > 0.95])\n",
    "\n",
    "print(\n",
    "    f\"Detected positive effect {num_positive_effects_detected/len(results):0.1%} of the time\\n\"\n",
    "    f\"Average effect size detected: {avg_effect_size*100*100:0.0f} bps\\n\"\n",
    ")"
   ]
  },
  {
   "cell_type": "markdown",
   "metadata": {
    "execution": {
     "iopub.execute_input": "2021-01-24T21:35:54.095657Z",
     "iopub.status.busy": "2021-01-24T21:35:54.095197Z",
     "iopub.status.idle": "2021-01-24T21:38:36.389203Z",
     "shell.execute_reply": "2021-01-24T21:38:36.386747Z",
     "shell.execute_reply.started": "2021-01-24T21:35:54.095622Z"
    }
   },
   "source": [
    "## A/B Test - Session Level Randomization with Effect Persistence"
   ]
  },
  {
   "cell_type": "code",
   "execution_count": 82,
   "metadata": {
    "execution": {
     "iopub.execute_input": "2021-01-31T15:31:02.359860Z",
     "iopub.status.busy": "2021-01-31T15:31:02.359549Z",
     "iopub.status.idle": "2021-01-31T15:32:02.531898Z",
     "shell.execute_reply": "2021-01-31T15:32:02.527030Z",
     "shell.execute_reply.started": "2021-01-31T15:31:02.359812Z"
    }
   },
   "outputs": [
    {
     "name": "stdout",
     "output_type": "stream",
     "text": [
      "Detected positive effect 90.0% of the time\n",
      "Average effect size detected: 137 bps\n",
      "\n"
     ]
    }
   ],
   "source": [
    "delayed_results = []\n",
    "\n",
    "NUM_EXPERIMENTS = 250\n",
    "for iteration in range(0, NUM_EXPERIMENTS):\n",
    "    result = dask.delayed(run_simulation)(\n",
    "        num_users=10000, \n",
    "        baseline_conversion=0.1, \n",
    "        relative_uplift=0.2, \n",
    "        is_aa_test=False,\n",
    "        randomization_unit='session',\n",
    "        persist_treatment_effect=True,\n",
    "        geometric_p=0.5,\n",
    "    )\n",
    "    delayed_results.append(result)\n",
    "\n",
    "results = dask.compute(*delayed_results)\n",
    "\n",
    "num_positive_effects_detected = np.sum([res['session_conversion']['test_gt_control'] > 0.95 for res in results])\n",
    "avg_effect_size = np.mean([res['session_conversion']['mean_diff'] for res in results if res['session_conversion']['test_gt_control'] > 0.95])\n",
    "\n",
    "print(\n",
    "    f\"Detected positive effect {num_positive_effects_detected/len(results):0.1%} of the time\\n\"\n",
    "    f\"Average effect size detected: {avg_effect_size*100*100:0.0f} bps\\n\"\n",
    ")"
   ]
  },
  {
   "cell_type": "markdown",
   "metadata": {
    "execution": {
     "iopub.execute_input": "2021-01-24T21:35:54.095657Z",
     "iopub.status.busy": "2021-01-24T21:35:54.095197Z",
     "iopub.status.idle": "2021-01-24T21:38:36.389203Z",
     "shell.execute_reply": "2021-01-24T21:38:36.386747Z",
     "shell.execute_reply.started": "2021-01-24T21:35:54.095622Z"
    }
   },
   "source": [
    "## A/B Test - User Level Randomization with Effect Persistence"
   ]
  },
  {
   "cell_type": "code",
   "execution_count": 83,
   "metadata": {
    "execution": {
     "iopub.execute_input": "2021-01-31T15:33:29.428042Z",
     "iopub.status.busy": "2021-01-31T15:33:29.427362Z",
     "iopub.status.idle": "2021-01-31T15:34:15.901476Z",
     "shell.execute_reply": "2021-01-31T15:34:15.880996Z",
     "shell.execute_reply.started": "2021-01-31T15:33:29.428008Z"
    }
   },
   "outputs": [
    {
     "name": "stdout",
     "output_type": "stream",
     "text": [
      "Detected positive effect 100.0% of the time\n",
      "Average effect size detected: 199 bps\n",
      "\n"
     ]
    }
   ],
   "source": [
    "delayed_results = []\n",
    "\n",
    "NUM_EXPERIMENTS = 250\n",
    "for iteration in range(0, NUM_EXPERIMENTS):\n",
    "    result = dask.delayed(run_simulation)(\n",
    "        num_users=10000, \n",
    "        baseline_conversion=0.1, \n",
    "        relative_uplift=0.2, \n",
    "        is_aa_test=False,\n",
    "        randomization_unit='user',\n",
    "        persist_treatment_effect=True,\n",
    "        geometric_p=0.5,\n",
    "    )\n",
    "    delayed_results.append(result)\n",
    "\n",
    "results = dask.compute(*delayed_results)\n",
    "\n",
    "num_positive_effects_detected = np.sum([res['session_conversion']['test_gt_control'] > 0.95 for res in results])\n",
    "avg_effect_size = np.mean([res['session_conversion']['mean_diff'] for res in results if res['session_conversion']['test_gt_control'] > 0.95])\n",
    "\n",
    "print(\n",
    "    f\"Detected positive effect {num_positive_effects_detected/len(results):0.1%} of the time\\n\"\n",
    "    f\"Average effect size detected: {avg_effect_size*100*100:0.0f} bps\\n\"\n",
    ")"
   ]
  },
  {
   "cell_type": "markdown",
   "metadata": {
    "execution": {
     "iopub.execute_input": "2021-01-24T21:35:54.095657Z",
     "iopub.status.busy": "2021-01-24T21:35:54.095197Z",
     "iopub.status.idle": "2021-01-24T21:38:36.389203Z",
     "shell.execute_reply": "2021-01-24T21:38:36.386747Z",
     "shell.execute_reply.started": "2021-01-24T21:35:54.095622Z"
    }
   },
   "source": [
    "## A/A Test - Session Level Randomization"
   ]
  },
  {
   "cell_type": "code",
   "execution_count": 80,
   "metadata": {
    "execution": {
     "iopub.execute_input": "2021-01-31T15:27:57.488067Z",
     "iopub.status.busy": "2021-01-31T15:27:57.487689Z",
     "iopub.status.idle": "2021-01-31T15:29:54.754304Z",
     "shell.execute_reply": "2021-01-31T15:29:54.751934Z",
     "shell.execute_reply.started": "2021-01-31T15:27:57.488037Z"
    }
   },
   "outputs": [
    {
     "name": "stdout",
     "output_type": "stream",
     "text": [
      "Detected positive effect 5.8% of the time\n",
      "\n"
     ]
    }
   ],
   "source": [
    "delayed_results = []\n",
    "\n",
    "NUM_EXPERIMENTS = 500\n",
    "for iteration in range(0, NUM_EXPERIMENTS):\n",
    "    result = dask.delayed(run_simulation)(\n",
    "        num_users=10000, \n",
    "        baseline_conversion=0.1, \n",
    "        relative_uplift=0.2, \n",
    "        is_aa_test=True,\n",
    "        randomization_unit='session',\n",
    "        persist_treatment_effect=False,\n",
    "        geometric_p=0.5,\n",
    "    )\n",
    "    delayed_results.append(result)\n",
    "\n",
    "results = dask.compute(*delayed_results)\n",
    "\n",
    "num_positive_effects_detected = np.sum([res['session_conversion']['test_gt_control'] > 0.95 for res in results])\n",
    "avg_effect_size = np.mean([res['session_conversion']['mean_diff'] for res in results if res['session_conversion']['test_gt_control'] > 0.95])\n",
    "\n",
    "print(\n",
    "    f\"Detected positive effect {num_positive_effects_detected/len(results):0.1%} of the time\\n\"\n",
    ")"
   ]
  },
  {
   "cell_type": "markdown",
   "metadata": {
    "execution": {
     "iopub.execute_input": "2021-01-24T21:35:54.095657Z",
     "iopub.status.busy": "2021-01-24T21:35:54.095197Z",
     "iopub.status.idle": "2021-01-24T21:38:36.389203Z",
     "shell.execute_reply": "2021-01-24T21:38:36.386747Z",
     "shell.execute_reply.started": "2021-01-24T21:35:54.095622Z"
    }
   },
   "source": [
    "## A/A Test - User Level Randomization with Effect Persistence"
   ]
  },
  {
   "cell_type": "code",
   "execution_count": 85,
   "metadata": {
    "execution": {
     "iopub.execute_input": "2021-01-31T15:54:32.156106Z",
     "iopub.status.busy": "2021-01-31T15:54:32.155764Z",
     "iopub.status.idle": "2021-01-31T16:02:19.227907Z",
     "shell.execute_reply": "2021-01-31T16:02:19.203430Z",
     "shell.execute_reply.started": "2021-01-31T15:54:32.156078Z"
    }
   },
   "outputs": [
    {
     "name": "stdout",
     "output_type": "stream",
     "text": [
      "Detected positive effect 6.4% of the time\n",
      "\n"
     ]
    }
   ],
   "source": [
    "delayed_results = []\n",
    "\n",
    "NUM_EXPERIMENTS = 500\n",
    "for iteration in range(0, NUM_EXPERIMENTS):\n",
    "    result = dask.delayed(run_simulation)(        \n",
    "        num_users=10000, \n",
    "        baseline_conversion=0.1, \n",
    "        relative_uplift=0.2, \n",
    "        is_aa_test=True,\n",
    "        randomization_unit='user',\n",
    "        persist_treatment_effect=True,\n",
    "        geometric_p=0.1,\n",
    "    )\n",
    "    delayed_results.append(result)\n",
    "\n",
    "results = dask.compute(*delayed_results)\n",
    "\n",
    "num_positive_effects_detected = np.sum([res['session_conversion']['test_gt_control'] > 0.95 for res in results])\n",
    "avg_effect_size = np.mean([res['session_conversion']['mean_diff'] for res in results if res['session_conversion']['test_gt_control'] > 0.95])\n",
    "\n",
    "print(\n",
    "    f\"Detected positive effect {num_positive_effects_detected/len(results):0.1%} of the time\\n\"\n",
    ")\n"
   ]
  },
  {
   "cell_type": "code",
   "execution_count": 56,
   "metadata": {
    "execution": {
     "iopub.execute_input": "2021-01-24T21:43:01.918921Z",
     "iopub.status.busy": "2021-01-24T21:43:01.913093Z",
     "iopub.status.idle": "2021-01-24T21:43:03.201917Z",
     "shell.execute_reply": "2021-01-24T21:43:03.201266Z",
     "shell.execute_reply.started": "2021-01-24T21:43:01.918877Z"
    }
   },
   "outputs": [],
   "source": [
    "# for dr in delayed_results:\n",
    "#     client.cancel(dr)"
   ]
  },
  {
   "cell_type": "markdown",
   "metadata": {},
   "source": [
    "# Graphing Sessions per User"
   ]
  },
  {
   "cell_type": "code",
   "execution_count": 86,
   "metadata": {
    "execution": {
     "iopub.execute_input": "2021-01-31T16:14:45.905864Z",
     "iopub.status.busy": "2021-01-31T16:14:45.893877Z",
     "iopub.status.idle": "2021-01-31T16:15:19.483393Z",
     "shell.execute_reply": "2021-01-31T16:15:19.404560Z",
     "shell.execute_reply.started": "2021-01-31T16:14:45.905821Z"
    }
   },
   "outputs": [],
   "source": [
    "num_users = 100000\n",
    "\n",
    "# sessions per user in a 2 week period\n",
    "sessions_per_user = np.random.geometric(0.1, size=num_users)\n",
    "\n",
    "# each user has some baseline conversion rate, we'll say ~10%\n",
    "baseline_conversion_rates = np.random.beta(100, 900, size=num_users);\n",
    "\n",
    "# session level randomization\n",
    "data = {\n",
    "    'user': [],\n",
    "    'session_id': [],\n",
    "    'session_converted': []\n",
    "}\n",
    "\n",
    "for user_id, num_sessions in enumerate(sessions_per_user):\n",
    "    for session_id in range(1, num_sessions+1):\n",
    "        conversion_rate = baseline_conversion_rates[user_id]\n",
    "        session_converted = np.random.choice([0, 1], p=[1-conversion_rate, conversion_rate])\n",
    "        data['user'].append(user_id)\n",
    "        data['session_id'].append(f\"{user_id}-{session_id}\")\n",
    "        data['session_converted'].append(session_converted)"
   ]
  },
  {
   "cell_type": "code",
   "execution_count": 87,
   "metadata": {
    "execution": {
     "iopub.execute_input": "2021-01-31T16:15:19.534017Z",
     "iopub.status.busy": "2021-01-31T16:15:19.528073Z",
     "iopub.status.idle": "2021-01-31T16:15:21.209074Z",
     "shell.execute_reply": "2021-01-31T16:15:21.167597Z",
     "shell.execute_reply.started": "2021-01-31T16:15:19.533971Z"
    }
   },
   "outputs": [
    {
     "data": {
      "text/html": [
       "<div>\n",
       "<style scoped>\n",
       "    .dataframe tbody tr th:only-of-type {\n",
       "        vertical-align: middle;\n",
       "    }\n",
       "\n",
       "    .dataframe tbody tr th {\n",
       "        vertical-align: top;\n",
       "    }\n",
       "\n",
       "    .dataframe thead th {\n",
       "        text-align: right;\n",
       "    }\n",
       "</style>\n",
       "<table border=\"1\" class=\"dataframe\">\n",
       "  <thead>\n",
       "    <tr style=\"text-align: right;\">\n",
       "      <th></th>\n",
       "      <th>user</th>\n",
       "      <th>sessions_per_user</th>\n",
       "      <th>num_converted</th>\n",
       "      <th>converted</th>\n",
       "    </tr>\n",
       "  </thead>\n",
       "  <tbody>\n",
       "    <tr>\n",
       "      <th>0</th>\n",
       "      <td>0</td>\n",
       "      <td>9</td>\n",
       "      <td>1</td>\n",
       "      <td>1</td>\n",
       "    </tr>\n",
       "    <tr>\n",
       "      <th>1</th>\n",
       "      <td>1</td>\n",
       "      <td>24</td>\n",
       "      <td>2</td>\n",
       "      <td>1</td>\n",
       "    </tr>\n",
       "    <tr>\n",
       "      <th>2</th>\n",
       "      <td>2</td>\n",
       "      <td>7</td>\n",
       "      <td>0</td>\n",
       "      <td>0</td>\n",
       "    </tr>\n",
       "    <tr>\n",
       "      <th>3</th>\n",
       "      <td>3</td>\n",
       "      <td>4</td>\n",
       "      <td>0</td>\n",
       "      <td>0</td>\n",
       "    </tr>\n",
       "    <tr>\n",
       "      <th>4</th>\n",
       "      <td>4</td>\n",
       "      <td>5</td>\n",
       "      <td>1</td>\n",
       "      <td>1</td>\n",
       "    </tr>\n",
       "  </tbody>\n",
       "</table>\n",
       "</div>"
      ],
      "text/plain": [
       "   user  sessions_per_user  num_converted  converted\n",
       "0     0                  9              1          1\n",
       "1     1                 24              2          1\n",
       "2     2                  7              0          0\n",
       "3     3                  4              0          0\n",
       "4     4                  5              1          1"
      ]
     },
     "execution_count": 87,
     "metadata": {},
     "output_type": "execute_result"
    }
   ],
   "source": [
    "df = pd.DataFrame(data)\n",
    "gdf = (\n",
    "    df\n",
    "    .groupby('user')\n",
    "    .agg(\n",
    "        sessions_per_user=('session_converted', 'count'), \n",
    "        num_converted=('session_converted', 'sum'),\n",
    "        converted=('session_converted', 'max'),\n",
    "    )\n",
    "    .reset_index()\n",
    ")\n",
    "\n",
    "gdf.head()"
   ]
  },
  {
   "cell_type": "code",
   "execution_count": 88,
   "metadata": {
    "execution": {
     "iopub.execute_input": "2021-01-31T16:15:21.244604Z",
     "iopub.status.busy": "2021-01-31T16:15:21.243701Z",
     "iopub.status.idle": "2021-01-31T16:15:21.431558Z",
     "shell.execute_reply": "2021-01-31T16:15:21.409738Z",
     "shell.execute_reply.started": "2021-01-31T16:15:21.244578Z"
    }
   },
   "outputs": [
    {
     "data": {
      "text/html": [
       "<div>\n",
       "<style scoped>\n",
       "    .dataframe tbody tr th:only-of-type {\n",
       "        vertical-align: middle;\n",
       "    }\n",
       "\n",
       "    .dataframe tbody tr th {\n",
       "        vertical-align: top;\n",
       "    }\n",
       "\n",
       "    .dataframe thead th {\n",
       "        text-align: right;\n",
       "    }\n",
       "</style>\n",
       "<table border=\"1\" class=\"dataframe\">\n",
       "  <thead>\n",
       "    <tr style=\"text-align: right;\">\n",
       "      <th></th>\n",
       "      <th>sessions_per_user</th>\n",
       "      <th>total_sessions</th>\n",
       "      <th>total_users</th>\n",
       "      <th>total_session_conversions</th>\n",
       "      <th>total_user_conversions</th>\n",
       "      <th>session_conversion_rate</th>\n",
       "      <th>user_conversion_rate</th>\n",
       "    </tr>\n",
       "  </thead>\n",
       "  <tbody>\n",
       "    <tr>\n",
       "      <th>0</th>\n",
       "      <td>1</td>\n",
       "      <td>10017</td>\n",
       "      <td>10017</td>\n",
       "      <td>1018</td>\n",
       "      <td>1018</td>\n",
       "      <td>0.101627</td>\n",
       "      <td>0.101627</td>\n",
       "    </tr>\n",
       "    <tr>\n",
       "      <th>1</th>\n",
       "      <td>2</td>\n",
       "      <td>17938</td>\n",
       "      <td>8969</td>\n",
       "      <td>1761</td>\n",
       "      <td>1667</td>\n",
       "      <td>0.098171</td>\n",
       "      <td>0.185862</td>\n",
       "    </tr>\n",
       "    <tr>\n",
       "      <th>2</th>\n",
       "      <td>3</td>\n",
       "      <td>24282</td>\n",
       "      <td>8094</td>\n",
       "      <td>2490</td>\n",
       "      <td>2243</td>\n",
       "      <td>0.102545</td>\n",
       "      <td>0.277119</td>\n",
       "    </tr>\n",
       "    <tr>\n",
       "      <th>3</th>\n",
       "      <td>4</td>\n",
       "      <td>29112</td>\n",
       "      <td>7278</td>\n",
       "      <td>2926</td>\n",
       "      <td>2494</td>\n",
       "      <td>0.100508</td>\n",
       "      <td>0.342677</td>\n",
       "    </tr>\n",
       "    <tr>\n",
       "      <th>4</th>\n",
       "      <td>5</td>\n",
       "      <td>31700</td>\n",
       "      <td>6340</td>\n",
       "      <td>3184</td>\n",
       "      <td>2598</td>\n",
       "      <td>0.100442</td>\n",
       "      <td>0.409779</td>\n",
       "    </tr>\n",
       "    <tr>\n",
       "      <th>...</th>\n",
       "      <td>...</td>\n",
       "      <td>...</td>\n",
       "      <td>...</td>\n",
       "      <td>...</td>\n",
       "      <td>...</td>\n",
       "      <td>...</td>\n",
       "      <td>...</td>\n",
       "    </tr>\n",
       "    <tr>\n",
       "      <th>87</th>\n",
       "      <td>91</td>\n",
       "      <td>182</td>\n",
       "      <td>2</td>\n",
       "      <td>15</td>\n",
       "      <td>2</td>\n",
       "      <td>0.082418</td>\n",
       "      <td>1.000000</td>\n",
       "    </tr>\n",
       "    <tr>\n",
       "      <th>88</th>\n",
       "      <td>93</td>\n",
       "      <td>186</td>\n",
       "      <td>2</td>\n",
       "      <td>19</td>\n",
       "      <td>2</td>\n",
       "      <td>0.102151</td>\n",
       "      <td>1.000000</td>\n",
       "    </tr>\n",
       "    <tr>\n",
       "      <th>89</th>\n",
       "      <td>94</td>\n",
       "      <td>188</td>\n",
       "      <td>2</td>\n",
       "      <td>14</td>\n",
       "      <td>2</td>\n",
       "      <td>0.074468</td>\n",
       "      <td>1.000000</td>\n",
       "    </tr>\n",
       "    <tr>\n",
       "      <th>90</th>\n",
       "      <td>96</td>\n",
       "      <td>96</td>\n",
       "      <td>1</td>\n",
       "      <td>11</td>\n",
       "      <td>1</td>\n",
       "      <td>0.114583</td>\n",
       "      <td>1.000000</td>\n",
       "    </tr>\n",
       "    <tr>\n",
       "      <th>91</th>\n",
       "      <td>97</td>\n",
       "      <td>97</td>\n",
       "      <td>1</td>\n",
       "      <td>11</td>\n",
       "      <td>1</td>\n",
       "      <td>0.113402</td>\n",
       "      <td>1.000000</td>\n",
       "    </tr>\n",
       "  </tbody>\n",
       "</table>\n",
       "<p>92 rows × 7 columns</p>\n",
       "</div>"
      ],
      "text/plain": [
       "    sessions_per_user  total_sessions  total_users  total_session_conversions  \\\n",
       "0                   1           10017        10017                       1018   \n",
       "1                   2           17938         8969                       1761   \n",
       "2                   3           24282         8094                       2490   \n",
       "3                   4           29112         7278                       2926   \n",
       "4                   5           31700         6340                       3184   \n",
       "..                ...             ...          ...                        ...   \n",
       "87                 91             182            2                         15   \n",
       "88                 93             186            2                         19   \n",
       "89                 94             188            2                         14   \n",
       "90                 96              96            1                         11   \n",
       "91                 97              97            1                         11   \n",
       "\n",
       "    total_user_conversions  session_conversion_rate  user_conversion_rate  \n",
       "0                     1018                 0.101627              0.101627  \n",
       "1                     1667                 0.098171              0.185862  \n",
       "2                     2243                 0.102545              0.277119  \n",
       "3                     2494                 0.100508              0.342677  \n",
       "4                     2598                 0.100442              0.409779  \n",
       "..                     ...                      ...                   ...  \n",
       "87                       2                 0.082418              1.000000  \n",
       "88                       2                 0.102151              1.000000  \n",
       "89                       2                 0.074468              1.000000  \n",
       "90                       1                 0.114583              1.000000  \n",
       "91                       1                 0.113402              1.000000  \n",
       "\n",
       "[92 rows x 7 columns]"
      ]
     },
     "execution_count": 88,
     "metadata": {},
     "output_type": "execute_result"
    }
   ],
   "source": [
    "spu_df = (\n",
    "    gdf\n",
    "    .groupby('sessions_per_user')\n",
    "    .agg(\n",
    "        total_sessions=('sessions_per_user', 'sum'),\n",
    "        total_users=('user', 'count'),\n",
    "        total_session_conversions=('num_converted', 'sum'),\n",
    "        total_user_conversions=('converted', 'sum'),\n",
    "    )\n",
    "    .reset_index()\n",
    ")\n",
    "\n",
    "\n",
    "spu_df['session_conversion_rate'] = spu_df['total_session_conversions'] / spu_df['total_sessions']\n",
    "spu_df['user_conversion_rate'] = spu_df['total_user_conversions'] / spu_df['total_users']\n",
    "\n",
    "spu_df"
   ]
  },
  {
   "cell_type": "code",
   "execution_count": 89,
   "metadata": {
    "execution": {
     "iopub.execute_input": "2021-01-31T16:15:21.454159Z",
     "iopub.status.busy": "2021-01-31T16:15:21.450571Z",
     "iopub.status.idle": "2021-01-31T16:15:23.850624Z",
     "shell.execute_reply": "2021-01-31T16:15:23.836917Z",
     "shell.execute_reply.started": "2021-01-31T16:15:21.454080Z"
    }
   },
   "outputs": [
    {
     "data": {
      "image/png": "[encoded data removed]",
      "text/plain": [
       "<Figure size 432x288 with 1 Axes>"
      ]
     },
     "metadata": {
      "needs_background": "light"
     },
     "output_type": "display_data"
    }
   ],
   "source": [
    "plt.plot(spu_df[spu_df.total_users>1000].sessions_per_user, spu_df[spu_df.total_users>1000].session_conversion_rate);\n",
    "plt.xlabel('Sessions per user');\n",
    "plt.title('Session Conversion Rate');"
   ]
  },
  {
   "cell_type": "code",
   "execution_count": 90,
   "metadata": {
    "execution": {
     "iopub.execute_input": "2021-01-31T16:15:23.879062Z",
     "iopub.status.busy": "2021-01-31T16:15:23.876452Z",
     "iopub.status.idle": "2021-01-31T16:15:26.219643Z",
     "shell.execute_reply": "2021-01-31T16:15:26.215954Z",
     "shell.execute_reply.started": "2021-01-31T16:15:23.879026Z"
    }
   },
   "outputs": [
    {
     "data": {
      "image/png": "[encoded data removed]",
      "text/plain": [
       "<Figure size 432x288 with 1 Axes>"
      ]
     },
     "metadata": {
      "needs_background": "light"
     },
     "output_type": "display_data"
    }
   ],
   "source": [
    "plt.plot(spu_df[spu_df.total_users>1000].sessions_per_user, spu_df[spu_df.total_users>1000].user_conversion_rate);\n",
    "plt.xlabel('Sessions per user');\n",
    "plt.title('User Conversion Rate');"
   ]
  },
  {
   "cell_type": "code",
   "execution_count": null,
   "metadata": {},
   "outputs": [],
   "source": []
  }
 ],
 "metadata": {
  "kernelspec": {
   "display_name": "Python 3",
   "language": "python",
   "name": "python3"
  },
  "language_info": {
   "codemirror_mode": {
    "name": "ipython",
    "version": 3
   },
   "file_extension": ".py",
   "mimetype": "text/x-python",
   "name": "python",
   "nbconvert_exporter": "python",
   "pygments_lexer": "ipython3",
   "version": "3.7.6"
  }
 },
 "nbformat": 4,
 "nbformat_minor": 4
}
